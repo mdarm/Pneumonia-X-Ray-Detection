{
 "cells": [
  {
   "cell_type": "markdown",
   "id": "130f6c94",
   "metadata": {
    "papermill": {
     "duration": 0.007115,
     "end_time": "2023-07-19T19:50:33.713765",
     "exception": false,
     "start_time": "2023-07-19T19:50:33.706650",
     "status": "completed"
    },
    "tags": []
   },
   "source": [
    "# M115 - Image Analysis and Processing, Assignment 2 (Notebook 2)\n",
    "\n",
    "This is the second part of Assignment 2 concerning the creation of an intelligent system to detect pneumonia in chest X-ray images, utilising a dataset available at [Kaggle Chest X-Ray Images (Pneumonia) dataset](https://www.kaggle.com/datasets/paultimothymooney/chest-xray-pneumonia).\n",
    "\n",
    "Here, a Convolutional Neural Netwrok is developed for that purpose. For the classical ML approach, please refer to [Notebook 1](https://github.com/mdarm/Pneumonia-X-Ray-Detection/blob/main/src/classical-ml.ipynb)."
   ]
  },
  {
   "cell_type": "markdown",
   "id": "bcf1bf13",
   "metadata": {
    "papermill": {
     "duration": 0.006334,
     "end_time": "2023-07-19T19:50:33.726831",
     "exception": false,
     "start_time": "2023-07-19T19:50:33.720497",
     "status": "completed"
    },
    "tags": []
   },
   "source": [
    "---\n",
    "\n",
    "Please note that this notebook was executed on a Kaggle machine equipped with 16GB of RAM, 2 CPUs and a Tesla P100-PCIE-16GB GPU. If you are rerunning this notebook locally or on a different platform such as Google Colab, you may encounter issues due to differences in the computing environment.\n",
    "\n",
    "Before running any other code, it is crucial to execute the first four code cells to import all necessary libraries. Failing to do so may result in matplotlib not functioning correctly.\n",
    "\n",
    "Lastly, run all cells in the order they appear. Many parts of the analysis depend on results or instances created in previous cells.\n",
    "\n",
    "---"
   ]
  },
  {
   "cell_type": "markdown",
   "id": "98a2a41d",
   "metadata": {
    "papermill": {
     "duration": 0.006167,
     "end_time": "2023-07-19T19:50:33.739437",
     "exception": false,
     "start_time": "2023-07-19T19:50:33.733270",
     "status": "completed"
    },
    "tags": []
   },
   "source": [
    "# Table of Contents\n",
    "* [Utilise Available Resources](#scrollTo=resources)\n",
    "* [Balance Dataset](#scrollTo=balance)\n",
    "* [Data Pre-processing & Augmentation](#scrollTo=augmentation)\n",
    "* [CNN Architecture](#scrollTo=cnn)\n",
    "  1. [Model fitting](#scrollTo=fit)\n",
    "  2. [Model evaluation](#scrollTo=evaluate)\n",
    "  3. [Running the model and statistical significance](#scrollTo=ss)\n",
    "* [Results and Comparison with Classical ML](#scrollTo=results)\n",
    "  1. [Deep learning potential improvements](#scrollTo=improve)"
   ]
  },
  {
   "cell_type": "code",
   "execution_count": 1,
   "id": "efedf125",
   "metadata": {
    "_kg_hide-input": true,
    "_kg_hide-output": true,
    "execution": {
     "iopub.execute_input": "2023-07-19T19:50:33.754280Z",
     "iopub.status.busy": "2023-07-19T19:50:33.753684Z",
     "iopub.status.idle": "2023-07-19T19:51:36.552123Z",
     "shell.execute_reply": "2023-07-19T19:51:36.550969Z"
    },
    "papermill": {
     "duration": 62.808594,
     "end_time": "2023-07-19T19:51:36.554488",
     "exception": false,
     "start_time": "2023-07-19T19:50:33.745894",
     "status": "completed"
    },
    "tags": []
   },
   "outputs": [
    {
     "name": "stdout",
     "output_type": "stream",
     "text": [
      "Get:1 https://developer.download.nvidia.com/compute/cuda/repos/ubuntu2204/x86_64  InRelease [1581 B]\r\n",
      "Get:2 https://developer.download.nvidia.com/compute/cuda/repos/ubuntu2204/x86_64  Packages [416 kB]\r\n",
      "Get:3 http://packages.cloud.google.com/apt gcsfuse-focal InRelease [5002 B]\r\n",
      "Get:4 https://packages.cloud.google.com/apt cloud-sdk InRelease [6361 B]\r\n",
      "Hit:5 http://archive.ubuntu.com/ubuntu jammy InRelease\r\n",
      "Get:6 http://security.ubuntu.com/ubuntu jammy-security InRelease [110 kB]\r\n",
      "Get:7 https://packages.cloud.google.com/apt google-fast-socket InRelease [5015 B]\r\n",
      "Get:8 https://packages.cloud.google.com/apt cloud-sdk/main amd64 Packages [482 kB]\r\n",
      "Get:9 http://archive.ubuntu.com/ubuntu jammy-updates InRelease [119 kB]\r\n",
      "Get:10 http://security.ubuntu.com/ubuntu jammy-security/main amd64 Packages [725 kB]\r\n",
      "Get:11 http://archive.ubuntu.com/ubuntu jammy-backports InRelease [108 kB]\r\n",
      "Get:12 http://archive.ubuntu.com/ubuntu jammy-updates/restricted amd64 Packages [749 kB]\r\n",
      "Get:13 http://security.ubuntu.com/ubuntu jammy-security/multiverse amd64 Packages [44.0 kB]\r\n",
      "Get:14 http://security.ubuntu.com/ubuntu jammy-security/restricted amd64 Packages [723 kB]\r\n",
      "Get:15 http://archive.ubuntu.com/ubuntu jammy-updates/universe amd64 Packages [1208 kB]\r\n",
      "Get:16 http://security.ubuntu.com/ubuntu jammy-security/universe amd64 Packages [952 kB]\r\n",
      "Get:17 http://archive.ubuntu.com/ubuntu jammy-updates/multiverse amd64 Packages [49.8 kB]\r\n",
      "Get:18 http://archive.ubuntu.com/ubuntu jammy-updates/main amd64 Packages [1017 kB]\r\n",
      "Get:19 http://archive.ubuntu.com/ubuntu jammy-backports/universe amd64 Packages [25.6 kB]\r\n",
      "Fetched 6746 kB in 3s (2349 kB/s)\r\n",
      "\r\n",
      "\r\n",
      "\r\n",
      "19 packages can be upgraded. Run 'apt list --upgradable' to see them.\r\n",
      "\u001b[1;33mW: \u001b[0mhttp://packages.cloud.google.com/apt/dists/gcsfuse-focal/InRelease: Key is stored in legacy trusted.gpg keyring (/etc/apt/trusted.gpg), see the DEPRECATION section in apt-key(8) for details.\u001b[0m\r\n",
      "\u001b[1;33mW: \u001b[0mhttps://packages.cloud.google.com/apt/dists/google-fast-socket/InRelease: Key is stored in legacy trusted.gpg keyring (/etc/apt/trusted.gpg), see the DEPRECATION section in apt-key(8) for details.\u001b[0m\r\n",
      "\r\n",
      "\r\n",
      "\r\n",
      "texlive-latex-recommended is already the newest version (2021.20220204-1).\r\n",
      "texlive-latex-recommended set to manually installed.\r\n",
      "The following additional packages will be installed:\r\n",
      "  cm-super-minimal fonts-droid-fallback fonts-lato fonts-noto-mono\r\n",
      "  fonts-urw-base35 ghostscript javascript-common libapache-pom-java\r\n",
      "  libcommons-logging-java libcommons-parent-java libfontbox-java libgs9\r\n",
      "  libgs9-common libidn12 libijs-0.35 libjbig2dec0 libjs-jquery libpdfbox-java\r\n",
      "  libruby3.0 libxtst6 libxxf86dga1 pfb2t1c2pfb poppler-data\r\n",
      "  preview-latex-style rake ruby ruby-net-telnet ruby-rubygems ruby-webrick\r\n",
      "  ruby-xmlrpc ruby3.0 rubygems-integration tcl tcl8.6 texlive-pictures\r\n",
      "  texlive-plain-generic tk tk8.6 x11-utils xbitmaps xterm\r\n",
      "Suggested packages:\r\n",
      "  fonts-noto fonts-freefont-otf | fonts-freefont-ttf fonts-texgyre\r\n",
      "  ghostscript-x apache2 | lighttpd | httpd libavalon-framework-java\r\n",
      "  libcommons-logging-java-doc libexcalibur-logkit-java liblog4j1.2-java\r\n",
      "  poppler-utils fonts-japanese-mincho | fonts-ipafont-mincho\r\n",
      "  fonts-japanese-gothic | fonts-ipafont-gothic fonts-arphic-ukai\r\n",
      "  fonts-arphic-uming fonts-nanum ri ruby-dev bundler tcl-tclreadline\r\n",
      "  python3-pygments icc-profiles libfile-which-perl\r\n",
      "  libspreadsheet-parseexcel-perl texlive-latex-extra-doc dot2tex prerex\r\n",
      "  texlive-pictures-doc vprerex mesa-utils xfonts-cyrillic\r\n",
      "The following NEW packages will be installed:\r\n",
      "  cm-super cm-super-minimal dvipng fonts-droid-fallback fonts-lato\r\n",
      "  fonts-noto-mono fonts-urw-base35 ghostscript javascript-common\r\n",
      "  libapache-pom-java libcommons-logging-java libcommons-parent-java\r\n",
      "  libfontbox-java libgs9 libgs9-common libidn12 libijs-0.35 libjbig2dec0\r\n",
      "  libjs-jquery libpdfbox-java libruby3.0 libxtst6 libxxf86dga1 pfb2t1c2pfb\r\n",
      "  poppler-data preview-latex-style rake ruby ruby-net-telnet ruby-rubygems\r\n",
      "  ruby-webrick ruby-xmlrpc ruby3.0 rubygems-integration tcl tcl8.6\r\n",
      "  texlive-latex-extra texlive-pictures texlive-plain-generic tk tk8.6\r\n",
      "  x11-utils xbitmaps xterm\r\n",
      "0 upgraded, 44 newly installed, 0 to remove and 19 not upgraded.\r\n",
      "Need to get 108 MB of archives.\r\n",
      "After this operation, 363 MB of additional disk space will be used.\r\n",
      "Get:1 http://archive.ubuntu.com/ubuntu jammy/main amd64 fonts-droid-fallback all 1:6.0.1r16-1.1build1 [1805 kB]\r\n",
      "Get:2 http://archive.ubuntu.com/ubuntu jammy/main amd64 fonts-lato all 2.0-2.1 [2696 kB]\r\n",
      "Get:3 http://archive.ubuntu.com/ubuntu jammy/main amd64 poppler-data all 0.4.11-1 [2171 kB]\r\n",
      "Get:4 http://archive.ubuntu.com/ubuntu jammy/universe amd64 cm-super-minimal all 0.3.4-17 [5777 kB]\r\n",
      "Get:5 http://archive.ubuntu.com/ubuntu jammy/universe amd64 pfb2t1c2pfb amd64 0.3-11 [9342 B]\r\n",
      "Get:6 http://archive.ubuntu.com/ubuntu jammy/universe amd64 cm-super all 0.3.4-17 [20.2 MB]\r\n",
      "Get:7 http://archive.ubuntu.com/ubuntu jammy/main amd64 fonts-urw-base35 all 20200910-1 [6367 kB]\r\n",
      "Get:8 http://archive.ubuntu.com/ubuntu jammy-updates/main amd64 libgs9-common all 9.55.0~dfsg1-0ubuntu5.3 [751 kB]\r\n",
      "Get:9 http://archive.ubuntu.com/ubuntu jammy-updates/main amd64 libidn12 amd64 1.38-4ubuntu1 [60.0 kB]\r\n",
      "Get:10 http://archive.ubuntu.com/ubuntu jammy/main amd64 libijs-0.35 amd64 0.35-15build2 [16.5 kB]\r\n",
      "Get:11 http://archive.ubuntu.com/ubuntu jammy/main amd64 libjbig2dec0 amd64 0.19-3build2 [64.7 kB]\r\n",
      "Get:12 http://archive.ubuntu.com/ubuntu jammy-updates/main amd64 libgs9 amd64 9.55.0~dfsg1-0ubuntu5.3 [5039 kB]\r\n",
      "Get:13 http://archive.ubuntu.com/ubuntu jammy-updates/main amd64 ghostscript amd64 9.55.0~dfsg1-0ubuntu5.3 [49.5 kB]\r\n",
      "Get:14 http://archive.ubuntu.com/ubuntu jammy/universe amd64 dvipng amd64 1.15-1.1 [78.9 kB]\r\n",
      "Get:15 http://archive.ubuntu.com/ubuntu jammy/main amd64 fonts-noto-mono all 20201225-1build1 [397 kB]\r\n",
      "Get:16 http://archive.ubuntu.com/ubuntu jammy/main amd64 javascript-common all 11+nmu1 [5936 B]\r\n",
      "Get:17 http://archive.ubuntu.com/ubuntu jammy/universe amd64 libapache-pom-java all 18-1 [4720 B]\r\n",
      "Get:18 http://archive.ubuntu.com/ubuntu jammy/universe amd64 libcommons-parent-java all 43-1 [10.8 kB]\r\n",
      "Get:19 http://archive.ubuntu.com/ubuntu jammy/universe amd64 libcommons-logging-java all 1.2-2 [60.3 kB]\r\n",
      "Get:20 http://archive.ubuntu.com/ubuntu jammy/main amd64 libjs-jquery all 3.6.0+dfsg+~3.5.13-1 [321 kB]\r\n",
      "Get:21 http://archive.ubuntu.com/ubuntu jammy/main amd64 rubygems-integration all 1.18 [5336 B]\r\n",
      "Get:22 http://archive.ubuntu.com/ubuntu jammy-updates/main amd64 ruby3.0 amd64 3.0.2-7ubuntu2.4 [50.1 kB]\r\n",
      "Get:23 http://archive.ubuntu.com/ubuntu jammy/main amd64 ruby-rubygems all 3.3.5-2 [228 kB]\r\n",
      "Get:24 http://archive.ubuntu.com/ubuntu jammy/main amd64 ruby amd64 1:3.0~exp1 [5100 B]\r\n",
      "Get:25 http://archive.ubuntu.com/ubuntu jammy/main amd64 rake all 13.0.6-2 [61.7 kB]\r\n",
      "Get:26 http://archive.ubuntu.com/ubuntu jammy/main amd64 ruby-net-telnet all 0.1.1-2 [12.6 kB]\r\n",
      "Get:27 http://archive.ubuntu.com/ubuntu jammy/universe amd64 ruby-webrick all 1.7.0-3 [51.8 kB]\r\n",
      "Get:28 http://archive.ubuntu.com/ubuntu jammy-updates/main amd64 ruby-xmlrpc all 0.3.2-1ubuntu0.1 [24.9 kB]\r\n",
      "Get:29 http://archive.ubuntu.com/ubuntu jammy-updates/main amd64 libruby3.0 amd64 3.0.2-7ubuntu2.4 [5113 kB]\r\n",
      "Get:30 http://archive.ubuntu.com/ubuntu jammy/main amd64 libxtst6 amd64 2:1.2.3-1build4 [13.4 kB]\r\n",
      "Get:31 http://archive.ubuntu.com/ubuntu jammy/main amd64 libxxf86dga1 amd64 2:1.1.5-0ubuntu3 [12.6 kB]\r\n",
      "Get:32 http://archive.ubuntu.com/ubuntu jammy/universe amd64 preview-latex-style all 12.2-1ubuntu1 [185 kB]\r\n",
      "Get:33 http://archive.ubuntu.com/ubuntu jammy/main amd64 tcl8.6 amd64 8.6.12+dfsg-1build1 [15.0 kB]\r\n",
      "Get:34 http://archive.ubuntu.com/ubuntu jammy/main amd64 tcl amd64 8.6.11+1build2 [4678 B]\r\n",
      "Get:35 http://archive.ubuntu.com/ubuntu jammy/universe amd64 libfontbox-java all 1:1.8.16-2 [207 kB]\r\n",
      "Get:36 http://archive.ubuntu.com/ubuntu jammy/universe amd64 libpdfbox-java all 1:1.8.16-2 [5199 kB]\r\n",
      "Get:37 http://archive.ubuntu.com/ubuntu jammy/universe amd64 texlive-pictures all 2021.20220204-1 [8720 kB]\r\n",
      "Get:38 http://archive.ubuntu.com/ubuntu jammy/universe amd64 texlive-latex-extra all 2021.20220204-1 [13.9 MB]\r\n",
      "Get:39 http://archive.ubuntu.com/ubuntu jammy/universe amd64 texlive-plain-generic all 2021.20220204-1 [27.5 MB]\r\n",
      "Get:40 http://archive.ubuntu.com/ubuntu jammy/main amd64 tk8.6 amd64 8.6.12-1build1 [12.8 kB]\r\n",
      "Get:41 http://archive.ubuntu.com/ubuntu jammy/main amd64 tk amd64 8.6.11+1build2 [3058 B]\r\n",
      "Get:42 http://archive.ubuntu.com/ubuntu jammy/main amd64 x11-utils amd64 7.7+5build2 [206 kB]\r\n",
      "Get:43 http://archive.ubuntu.com/ubuntu jammy/main amd64 xbitmaps all 1.1.1-2.1ubuntu1 [23.4 kB]\r\n",
      "Get:44 http://archive.ubuntu.com/ubuntu jammy/universe amd64 xterm amd64 372-1ubuntu1 [857 kB]\r\n",
      "Fetched 108 MB in 18s (6002 kB/s)\r\n",
      "Extracting templates from packages: 100%\r\n",
      "\n",
      "\u001b7\u001b[0;23r\u001b8\u001b[1ASelecting previously unselected package fonts-droid-fallback.\r\n",
      "(Reading database ... 113701 files and directories currently installed.)\r\n",
      "Preparing to unpack .../00-fonts-droid-fallback_1%3a6.0.1r16-1.1build1_all.deb ...\r\n",
      "\u001b7\u001b[24;0f\u001b[42m\u001b[30mProgress: [  0%]\u001b[49m\u001b[39m [..........................................................] \u001b8Unpacking fonts-droid-fallback (1:6.0.1r16-1.1build1) ...\r\n",
      "\u001b7\u001b[24;0f\u001b[42m\u001b[30mProgress: [  1%]\u001b[49m\u001b[39m [..........................................................] \u001b8Selecting previously unselected package fonts-lato.\r\n",
      "Preparing to unpack .../01-fonts-lato_2.0-2.1_all.deb ...\r\n",
      "Unpacking fonts-lato (2.0-2.1) ...\r\n",
      "\u001b7\u001b[24;0f\u001b[42m\u001b[30mProgress: [  2%]\u001b[49m\u001b[39m [#.........................................................] \u001b8Selecting previously unselected package poppler-data.\r\n",
      "Preparing to unpack .../02-poppler-data_0.4.11-1_all.deb ...\r\n",
      "Unpacking poppler-data (0.4.11-1) ...\r\n",
      "\u001b7\u001b[24;0f\u001b[42m\u001b[30mProgress: [  3%]\u001b[49m\u001b[39m [#.........................................................] \u001b8Selecting previously unselected package cm-super-minimal.\r\n",
      "Preparing to unpack .../03-cm-super-minimal_0.3.4-17_all.deb ...\r\n",
      "Unpacking cm-super-minimal (0.3.4-17) ...\r\n",
      "\u001b7\u001b[24;0f\u001b[42m\u001b[30mProgress: [  5%]\u001b[49m\u001b[39m [##........................................................] \u001b8Selecting previously unselected package pfb2t1c2pfb.\r\n",
      "Preparing to unpack .../04-pfb2t1c2pfb_0.3-11_amd64.deb ...\r\n",
      "\u001b7\u001b[24;0f\u001b[42m\u001b[30mProgress: [  5%]\u001b[49m\u001b[39m [##........................................................] \u001b8Unpacking pfb2t1c2pfb (0.3-11) ...\r\n",
      "Selecting previously unselected package cm-super.\r\n",
      "Preparing to unpack .../05-cm-super_0.3.4-17_all.deb ...\r\n",
      "\u001b7\u001b[24;0f\u001b[42m\u001b[30mProgress: [  6%]\u001b[49m\u001b[39m [###.......................................................] \u001b8Unpacking cm-super (0.3.4-17) ...\r\n",
      "Selecting previously unselected package fonts-urw-base35.\r\n",
      "Preparing to unpack .../06-fonts-urw-base35_20200910-1_all.deb ...\r\n",
      "\u001b7\u001b[24;0f\u001b[42m\u001b[30mProgress: [  7%]\u001b[49m\u001b[39m [####......................................................] \u001b8Unpacking fonts-urw-base35 (20200910-1) ...\r\n",
      "Selecting previously unselected package libgs9-common.\r\n",
      "Preparing to unpack .../07-libgs9-common_9.55.0~dfsg1-0ubuntu5.3_all.deb ...\r\n",
      "\u001b7\u001b[24;0f\u001b[42m\u001b[30mProgress: [  8%]\u001b[49m\u001b[39m [####......................................................] \u001b8Unpacking libgs9-common (9.55.0~dfsg1-0ubuntu5.3) ...\r\n",
      "\u001b7\u001b[24;0f\u001b[42m\u001b[30mProgress: [  9%]\u001b[49m\u001b[39m [#####.....................................................] \u001b8Selecting previously unselected package libidn12:amd64.\r\n",
      "Preparing to unpack .../08-libidn12_1.38-4ubuntu1_amd64.deb ...\r\n",
      "Unpacking libidn12:amd64 (1.38-4ubuntu1) ...\r\n",
      "\u001b7\u001b[24;0f\u001b[42m\u001b[30mProgress: [ 10%]\u001b[49m\u001b[39m [#####.....................................................] \u001b8Selecting previously unselected package libijs-0.35:amd64.\r\n",
      "Preparing to unpack .../09-libijs-0.35_0.35-15build2_amd64.deb ...\r\n",
      "Unpacking libijs-0.35:amd64 (0.35-15build2) ...\r\n",
      "\u001b7\u001b[24;0f\u001b[42m\u001b[30mProgress: [ 11%]\u001b[49m\u001b[39m [######....................................................] \u001b8Selecting previously unselected package libjbig2dec0:amd64.\r\n",
      "Preparing to unpack .../10-libjbig2dec0_0.19-3build2_amd64.deb ...\r\n",
      "Unpacking libjbig2dec0:amd64 (0.19-3build2) ...\r\n",
      "\u001b7\u001b[24;0f\u001b[42m\u001b[30mProgress: [ 12%]\u001b[49m\u001b[39m [#######...................................................] \u001b8Selecting previously unselected package libgs9:amd64.\r\n",
      "Preparing to unpack .../11-libgs9_9.55.0~dfsg1-0ubuntu5.3_amd64.deb ...\r\n",
      "Unpacking libgs9:amd64 (9.55.0~dfsg1-0ubuntu5.3) ...\r\n",
      "\u001b7\u001b[24;0f\u001b[42m\u001b[30mProgress: [ 14%]\u001b[49m\u001b[39m [#######...................................................] \u001b8Selecting previously unselected package ghostscript.\r\n",
      "Preparing to unpack .../12-ghostscript_9.55.0~dfsg1-0ubuntu5.3_amd64.deb ...\r\n",
      "\u001b7\u001b[24;0f\u001b[42m\u001b[30mProgress: [ 14%]\u001b[49m\u001b[39m [########..................................................] \u001b8Unpacking ghostscript (9.55.0~dfsg1-0ubuntu5.3) ...\r\n",
      "Selecting previously unselected package dvipng.\r\n",
      "Preparing to unpack .../13-dvipng_1.15-1.1_amd64.deb ...\r\n",
      "\u001b7\u001b[24;0f\u001b[42m\u001b[30mProgress: [ 15%]\u001b[49m\u001b[39m [########..................................................] \u001b8Unpacking dvipng (1.15-1.1) ...\r\n",
      "Selecting previously unselected package fonts-noto-mono.\r\n",
      "Preparing to unpack .../14-fonts-noto-mono_20201225-1build1_all.deb ...\r\n",
      "\u001b7\u001b[24;0f\u001b[42m\u001b[30mProgress: [ 16%]\u001b[49m\u001b[39m [#########.................................................] \u001b8Unpacking fonts-noto-mono (20201225-1build1) ...\r\n",
      "Selecting previously unselected package javascript-common.\r\n",
      "Preparing to unpack .../15-javascript-common_11+nmu1_all.deb ...\r\n",
      "\u001b7\u001b[24;0f\u001b[42m\u001b[30mProgress: [ 18%]\u001b[49m\u001b[39m [##########................................................] \u001b8Unpacking javascript-common (11+nmu1) ...\r\n",
      "\u001b7\u001b[24;0f\u001b[42m\u001b[30mProgress: [ 18%]\u001b[49m\u001b[39m [##########................................................] \u001b8Selecting previously unselected package libapache-pom-java.\r\n",
      "Preparing to unpack .../16-libapache-pom-java_18-1_all.deb ...\r\n",
      "Unpacking libapache-pom-java (18-1) ...\r\n",
      "\u001b7\u001b[24;0f\u001b[42m\u001b[30mProgress: [ 19%]\u001b[49m\u001b[39m [###########...............................................] \u001b8Selecting previously unselected package libcommons-parent-java.\r\n",
      "Preparing to unpack .../17-libcommons-parent-java_43-1_all.deb ...\r\n",
      "Unpacking libcommons-parent-java (43-1) ...\r\n",
      "\u001b7\u001b[24;0f\u001b[42m\u001b[30mProgress: [ 20%]\u001b[49m\u001b[39m [###########...............................................] \u001b8Selecting previously unselected package libcommons-logging-java.\r\n",
      "Preparing to unpack .../18-libcommons-logging-java_1.2-2_all.deb ...\r\n",
      "Unpacking libcommons-logging-java (1.2-2) ...\r\n",
      "\u001b7\u001b[24;0f\u001b[42m\u001b[30mProgress: [ 21%]\u001b[49m\u001b[39m [############..............................................] \u001b8Selecting previously unselected package libjs-jquery.\r\n",
      "Preparing to unpack .../19-libjs-jquery_3.6.0+dfsg+~3.5.13-1_all.deb ...\r\n",
      "\u001b7\u001b[24;0f\u001b[42m\u001b[30mProgress: [ 22%]\u001b[49m\u001b[39m [############..............................................] \u001b8Unpacking libjs-jquery (3.6.0+dfsg+~3.5.13-1) ...\r\n",
      "Selecting previously unselected package rubygems-integration.\r\n",
      "Preparing to unpack .../20-rubygems-integration_1.18_all.deb ...\r\n",
      "\u001b7\u001b[24;0f\u001b[42m\u001b[30mProgress: [ 23%]\u001b[49m\u001b[39m [#############.............................................] \u001b8Unpacking rubygems-integration (1.18) ...\r\n",
      "Selecting previously unselected package ruby3.0.\r\n",
      "Preparing to unpack .../21-ruby3.0_3.0.2-7ubuntu2.4_amd64.deb ...\r\n",
      "\u001b7\u001b[24;0f\u001b[42m\u001b[30mProgress: [ 24%]\u001b[49m\u001b[39m [##############............................................] \u001b8Unpacking ruby3.0 (3.0.2-7ubuntu2.4) ...\r\n",
      "Selecting previously unselected package ruby-rubygems.\r\n",
      "Preparing to unpack .../22-ruby-rubygems_3.3.5-2_all.deb ...\r\n",
      "\u001b7\u001b[24;0f\u001b[42m\u001b[30mProgress: [ 25%]\u001b[49m\u001b[39m [##############............................................] \u001b8Unpacking ruby-rubygems (3.3.5-2) ...\r\n",
      "Selecting previously unselected package ruby.\r\n",
      "Preparing to unpack .../23-ruby_1%3a3.0~exp1_amd64.deb ...\r\n",
      "\u001b7\u001b[24;0f\u001b[42m\u001b[30mProgress: [ 27%]\u001b[49m\u001b[39m [###############...........................................] \u001b8Unpacking ruby (1:3.0~exp1) ...\r\n",
      "\u001b7\u001b[24;0f\u001b[42m\u001b[30mProgress: [ 27%]\u001b[49m\u001b[39m [###############...........................................] \u001b8Selecting previously unselected package rake.\r\n",
      "Preparing to unpack .../24-rake_13.0.6-2_all.deb ...\r\n",
      "Unpacking rake (13.0.6-2) ...\r\n",
      "\u001b7\u001b[24;0f\u001b[42m\u001b[30mProgress: [ 28%]\u001b[49m\u001b[39m [################..........................................] \u001b8Selecting previously unselected package ruby-net-telnet.\r\n",
      "Preparing to unpack .../25-ruby-net-telnet_0.1.1-2_all.deb ...\r\n",
      "Unpacking ruby-net-telnet (0.1.1-2) ...\r\n",
      "\u001b7\u001b[24;0f\u001b[42m\u001b[30mProgress: [ 29%]\u001b[49m\u001b[39m [#################.........................................] \u001b8Selecting previously unselected package ruby-webrick.\r\n",
      "Preparing to unpack .../26-ruby-webrick_1.7.0-3_all.deb ...\r\n",
      "Unpacking ruby-webrick (1.7.0-3) ...\r\n",
      "\u001b7\u001b[24;0f\u001b[42m\u001b[30mProgress: [ 31%]\u001b[49m\u001b[39m [#################.........................................] \u001b8Selecting previously unselected package ruby-xmlrpc.\r\n",
      "Preparing to unpack .../27-ruby-xmlrpc_0.3.2-1ubuntu0.1_all.deb ...\r\n",
      "\u001b7\u001b[24;0f\u001b[42m\u001b[30mProgress: [ 31%]\u001b[49m\u001b[39m [##################........................................] \u001b8Unpacking ruby-xmlrpc (0.3.2-1ubuntu0.1) ...\r\n",
      "Selecting previously unselected package libruby3.0:amd64.\r\n",
      "Preparing to unpack .../28-libruby3.0_3.0.2-7ubuntu2.4_amd64.deb ...\r\n",
      "\u001b7\u001b[24;0f\u001b[42m\u001b[30mProgress: [ 32%]\u001b[49m\u001b[39m [##################........................................] \u001b8Unpacking libruby3.0:amd64 (3.0.2-7ubuntu2.4) ...\r\n",
      "Selecting previously unselected package libxtst6:amd64.\r\n",
      "Preparing to unpack .../29-libxtst6_2%3a1.2.3-1build4_amd64.deb ...\r\n",
      "\u001b7\u001b[24;0f\u001b[42m\u001b[30mProgress: [ 33%]\u001b[49m\u001b[39m [###################.......................................] \u001b8Unpacking libxtst6:amd64 (2:1.2.3-1build4) ...\r\n",
      "Selecting previously unselected package libxxf86dga1:amd64.\r\n",
      "Preparing to unpack .../30-libxxf86dga1_2%3a1.1.5-0ubuntu3_amd64.deb ...\r\n",
      "\u001b7\u001b[24;0f\u001b[42m\u001b[30mProgress: [ 34%]\u001b[49m\u001b[39m [###################.......................................] \u001b8Unpacking libxxf86dga1:amd64 (2:1.1.5-0ubuntu3) ...\r\n",
      "\u001b7\u001b[24;0f\u001b[42m\u001b[30mProgress: [ 35%]\u001b[49m\u001b[39m [####################......................................] \u001b8Selecting previously unselected package preview-latex-style.\r\n",
      "Preparing to unpack .../31-preview-latex-style_12.2-1ubuntu1_all.deb ...\r\n",
      "Unpacking preview-latex-style (12.2-1ubuntu1) ...\r\n",
      "\u001b7\u001b[24;0f\u001b[42m\u001b[30mProgress: [ 36%]\u001b[49m\u001b[39m [####################......................................] \u001b8Selecting previously unselected package tcl8.6.\r\n",
      "Preparing to unpack .../32-tcl8.6_8.6.12+dfsg-1build1_amd64.deb ...\r\n",
      "Unpacking tcl8.6 (8.6.12+dfsg-1build1) ...\r\n",
      "\u001b7\u001b[24;0f\u001b[42m\u001b[30mProgress: [ 37%]\u001b[49m\u001b[39m [#####################.....................................] \u001b8Selecting previously unselected package tcl.\r\n",
      "Preparing to unpack .../33-tcl_8.6.11+1build2_amd64.deb ...\r\n",
      "Unpacking tcl (8.6.11+1build2) ...\r\n",
      "\u001b7\u001b[24;0f\u001b[42m\u001b[30mProgress: [ 38%]\u001b[49m\u001b[39m [######################....................................] \u001b8Selecting previously unselected package libfontbox-java.\r\n",
      "Preparing to unpack .../34-libfontbox-java_1%3a1.8.16-2_all.deb ...\r\n",
      "Unpacking libfontbox-java (1:1.8.16-2) ...\r\n",
      "\u001b7\u001b[24;0f\u001b[42m\u001b[30mProgress: [ 40%]\u001b[49m\u001b[39m [######################....................................] \u001b8Selecting previously unselected package libpdfbox-java.\r\n",
      "Preparing to unpack .../35-libpdfbox-java_1%3a1.8.16-2_all.deb ...\r\n",
      "\u001b7\u001b[24;0f\u001b[42m\u001b[30mProgress: [ 40%]\u001b[49m\u001b[39m [#######################...................................] \u001b8Unpacking libpdfbox-java (1:1.8.16-2) ...\r\n",
      "Selecting previously unselected package texlive-pictures.\r\n",
      "Preparing to unpack .../36-texlive-pictures_2021.20220204-1_all.deb ...\r\n",
      "\u001b7\u001b[24;0f\u001b[42m\u001b[30mProgress: [ 41%]\u001b[49m\u001b[39m [#######################...................................] \u001b8Unpacking texlive-pictures (2021.20220204-1) ...\r\n",
      "Selecting previously unselected package texlive-latex-extra.\r\n",
      "Preparing to unpack .../37-texlive-latex-extra_2021.20220204-1_all.deb ...\r\n",
      "\u001b7\u001b[24;0f\u001b[42m\u001b[30mProgress: [ 42%]\u001b[49m\u001b[39m [########################..................................] \u001b8Unpacking texlive-latex-extra (2021.20220204-1) ...\r\n",
      "Selecting previously unselected package texlive-plain-generic.\r\n",
      "Preparing to unpack .../38-texlive-plain-generic_2021.20220204-1_all.deb ...\r\n",
      "\u001b7\u001b[24;0f\u001b[42m\u001b[30mProgress: [ 44%]\u001b[49m\u001b[39m [#########################.................................] \u001b8Unpacking texlive-plain-generic (2021.20220204-1) ...\r\n",
      "\u001b7\u001b[24;0f\u001b[42m\u001b[30mProgress: [ 44%]\u001b[49m\u001b[39m [#########################.................................] \u001b8Selecting previously unselected package tk8.6.\r\n",
      "Preparing to unpack .../39-tk8.6_8.6.12-1build1_amd64.deb ...\r\n",
      "Unpacking tk8.6 (8.6.12-1build1) ...\r\n",
      "\u001b7\u001b[24;0f\u001b[42m\u001b[30mProgress: [ 45%]\u001b[49m\u001b[39m [##########################................................] \u001b8Selecting previously unselected package tk.\r\n",
      "Preparing to unpack .../40-tk_8.6.11+1build2_amd64.deb ...\r\n",
      "Unpacking tk (8.6.11+1build2) ...\r\n",
      "\u001b7\u001b[24;0f\u001b[42m\u001b[30mProgress: [ 46%]\u001b[49m\u001b[39m [##########################................................] \u001b8Selecting previously unselected package x11-utils.\r\n",
      "Preparing to unpack .../41-x11-utils_7.7+5build2_amd64.deb ...\r\n",
      "Unpacking x11-utils (7.7+5build2) ...\r\n",
      "\u001b7\u001b[24;0f\u001b[42m\u001b[30mProgress: [ 47%]\u001b[49m\u001b[39m [###########################...............................] \u001b8Selecting previously unselected package xbitmaps.\r\n",
      "Preparing to unpack .../42-xbitmaps_1.1.1-2.1ubuntu1_all.deb ...\r\n",
      "\u001b7\u001b[24;0f\u001b[42m\u001b[30mProgress: [ 48%]\u001b[49m\u001b[39m [###########################...............................] \u001b8Unpacking xbitmaps (1.1.1-2.1ubuntu1) ...\r\n",
      "Selecting previously unselected package xterm.\r\n",
      "Preparing to unpack .../43-xterm_372-1ubuntu1_amd64.deb ...\r\n",
      "\u001b7\u001b[24;0f\u001b[42m\u001b[30mProgress: [ 49%]\u001b[49m\u001b[39m [############################..............................] \u001b8Unpacking xterm (372-1ubuntu1) ...\r\n",
      "Setting up pfb2t1c2pfb (0.3-11) ...\r\n",
      "\u001b7\u001b[24;0f\u001b[42m\u001b[30mProgress: [ 50%]\u001b[49m\u001b[39m [#############################.............................] \u001b8Setting up javascript-common (11+nmu1) ...\r\n",
      "\u001b7\u001b[24;0f\u001b[42m\u001b[30mProgress: [ 51%]\u001b[49m\u001b[39m [#############################.............................] \u001b8Setting up tk8.6 (8.6.12-1build1) ...\r\n",
      "\u001b7\u001b[24;0f\u001b[42m\u001b[30mProgress: [ 53%]\u001b[49m\u001b[39m [##############################............................] \u001b8\u001b7\u001b[24;0f\u001b[42m\u001b[30mProgress: [ 53%]\u001b[49m\u001b[39m [##############################............................] \u001b8Setting up tcl8.6 (8.6.12+dfsg-1build1) ...\r\n",
      "\u001b7\u001b[24;0f\u001b[42m\u001b[30mProgress: [ 54%]\u001b[49m\u001b[39m [###############################...........................] \u001b8Setting up fonts-lato (2.0-2.1) ...\r\n",
      "\u001b7\u001b[24;0f\u001b[42m\u001b[30mProgress: [ 55%]\u001b[49m\u001b[39m [################################..........................] \u001b8Setting up fonts-noto-mono (20201225-1build1) ...\r\n",
      "\u001b7\u001b[24;0f\u001b[42m\u001b[30mProgress: [ 56%]\u001b[49m\u001b[39m [################################..........................] \u001b8Setting up libxtst6:amd64 (2:1.2.3-1build4) ...\r\n",
      "\u001b7\u001b[24;0f\u001b[42m\u001b[30mProgress: [ 57%]\u001b[49m\u001b[39m [#################################.........................] \u001b8Setting up libijs-0.35:amd64 (0.35-15build2) ...\r\n",
      "\u001b7\u001b[24;0f\u001b[42m\u001b[30mProgress: [ 58%]\u001b[49m\u001b[39m [#################################.........................] \u001b8Setting up preview-latex-style (12.2-1ubuntu1) ...\r\n",
      "\u001b7\u001b[24;0f\u001b[42m\u001b[30mProgress: [ 59%]\u001b[49m\u001b[39m [##################################........................] \u001b8Setting up libfontbox-java (1:1.8.16-2) ...\r\n",
      "\u001b7\u001b[24;0f\u001b[42m\u001b[30mProgress: [ 60%]\u001b[49m\u001b[39m [###################################.......................] \u001b8\u001b7\u001b[24;0f\u001b[42m\u001b[30mProgress: [ 61%]\u001b[49m\u001b[39m [###################################.......................] \u001b8Setting up texlive-plain-generic (2021.20220204-1) ...\r\n",
      "\u001b7\u001b[24;0f\u001b[42m\u001b[30mProgress: [ 62%]\u001b[49m\u001b[39m [####################################......................] \u001b8Setting up libxxf86dga1:amd64 (2:1.1.5-0ubuntu3) ...\r\n",
      "\u001b7\u001b[24;0f\u001b[42m\u001b[30mProgress: [ 63%]\u001b[49m\u001b[39m [####################################......................] \u001b8Setting up rubygems-integration (1.18) ...\r\n",
      "\u001b7\u001b[24;0f\u001b[42m\u001b[30mProgress: [ 64%]\u001b[49m\u001b[39m [#####################################.....................] \u001b8Setting up fonts-urw-base35 (20200910-1) ...\r\n",
      "\u001b7\u001b[24;0f\u001b[42m\u001b[30mProgress: [ 66%]\u001b[49m\u001b[39m [######################################....................] \u001b8Setting up poppler-data (0.4.11-1) ...\r\n",
      "\u001b7\u001b[24;0f\u001b[42m\u001b[30mProgress: [ 66%]\u001b[49m\u001b[39m [######################################....................] \u001b8Setting up libjbig2dec0:amd64 (0.19-3build2) ...\r\n",
      "\u001b7\u001b[24;0f\u001b[42m\u001b[30mProgress: [ 67%]\u001b[49m\u001b[39m [######################################....................] \u001b8Setting up libapache-pom-java (18-1) ...\r\n",
      "\u001b7\u001b[24;0f\u001b[42m\u001b[30mProgress: [ 68%]\u001b[49m\u001b[39m [#######################################...................] \u001b8Setting up ruby-net-telnet (0.1.1-2) ...\r\n",
      "\u001b7\u001b[24;0f\u001b[42m\u001b[30mProgress: [ 69%]\u001b[49m\u001b[39m [########################################..................] \u001b8\u001b7\u001b[24;0f\u001b[42m\u001b[30mProgress: [ 70%]\u001b[49m\u001b[39m [########################################..................] \u001b8Setting up libidn12:amd64 (1.38-4ubuntu1) ...\r\n",
      "\u001b7\u001b[24;0f\u001b[42m\u001b[30mProgress: [ 71%]\u001b[49m\u001b[39m [#########################################.................] \u001b8Setting up texlive-pictures (2021.20220204-1) ...\r\n",
      "\u001b7\u001b[24;0f\u001b[42m\u001b[30mProgress: [ 72%]\u001b[49m\u001b[39m [#########################################.................] \u001b8Setting up ruby-webrick (1.7.0-3) ...\r\n",
      "\u001b7\u001b[24;0f\u001b[42m\u001b[30mProgress: [ 73%]\u001b[49m\u001b[39m [##########################################................] \u001b8Setting up tcl (8.6.11+1build2) ...\r\n",
      "\u001b7\u001b[24;0f\u001b[42m\u001b[30mProgress: [ 74%]\u001b[49m\u001b[39m [##########################################................] \u001b8Setting up x11-utils (7.7+5build2) ...\r\n",
      "\u001b7\u001b[24;0f\u001b[42m\u001b[30mProgress: [ 75%]\u001b[49m\u001b[39m [###########################################...............] \u001b8Setting up fonts-droid-fallback (1:6.0.1r16-1.1build1) ...\r\n",
      "\u001b7\u001b[24;0f\u001b[42m\u001b[30mProgress: [ 76%]\u001b[49m\u001b[39m [############################################..............] \u001b8Setting up libjs-jquery (3.6.0+dfsg+~3.5.13-1) ...\r\n",
      "\u001b7\u001b[24;0f\u001b[42m\u001b[30mProgress: [ 77%]\u001b[49m\u001b[39m [############################################..............] \u001b8Setting up tk (8.6.11+1build2) ...\r\n",
      "\u001b7\u001b[24;0f\u001b[42m\u001b[30mProgress: [ 79%]\u001b[49m\u001b[39m [#############################################.............] \u001b8\u001b7\u001b[24;0f\u001b[42m\u001b[30mProgress: [ 79%]\u001b[49m\u001b[39m [#############################################.............] \u001b8Setting up ruby-xmlrpc (0.3.2-1ubuntu0.1) ...\r\n",
      "\u001b7\u001b[24;0f\u001b[42m\u001b[30mProgress: [ 80%]\u001b[49m\u001b[39m [##############################################............] \u001b8Setting up xbitmaps (1.1.1-2.1ubuntu1) ...\r\n",
      "\u001b7\u001b[24;0f\u001b[42m\u001b[30mProgress: [ 81%]\u001b[49m\u001b[39m [###############################################...........] \u001b8Setting up cm-super-minimal (0.3.4-17) ...\r\n",
      "\u001b7\u001b[24;0f\u001b[42m\u001b[30mProgress: [ 82%]\u001b[49m\u001b[39m [###############################################...........] \u001b8Setting up libgs9-common (9.55.0~dfsg1-0ubuntu5.3) ...\r\n",
      "\u001b7\u001b[24;0f\u001b[42m\u001b[30mProgress: [ 83%]\u001b[49m\u001b[39m [################################################..........] \u001b8Setting up libpdfbox-java (1:1.8.16-2) ...\r\n",
      "\u001b7\u001b[24;0f\u001b[42m\u001b[30mProgress: [ 84%]\u001b[49m\u001b[39m [################################################..........] \u001b8Setting up libgs9:amd64 (9.55.0~dfsg1-0ubuntu5.3) ...\r\n",
      "\u001b7\u001b[24;0f\u001b[42m\u001b[30mProgress: [ 85%]\u001b[49m\u001b[39m [#################################################.........] \u001b8Setting up libcommons-parent-java (43-1) ...\r\n",
      "\u001b7\u001b[24;0f\u001b[42m\u001b[30mProgress: [ 86%]\u001b[49m\u001b[39m [##################################################........] \u001b8\u001b7\u001b[24;0f\u001b[42m\u001b[30mProgress: [ 87%]\u001b[49m\u001b[39m [##################################################........] \u001b8Setting up libcommons-logging-java (1.2-2) ...\r\n",
      "\u001b7\u001b[24;0f\u001b[42m\u001b[30mProgress: [ 88%]\u001b[49m\u001b[39m [###################################################.......] \u001b8Setting up texlive-latex-extra (2021.20220204-1) ...\r\n",
      "\u001b7\u001b[24;0f\u001b[42m\u001b[30mProgress: [ 89%]\u001b[49m\u001b[39m [###################################################.......] \u001b8Setting up ghostscript (9.55.0~dfsg1-0ubuntu5.3) ...\r\n",
      "\u001b7\u001b[24;0f\u001b[42m\u001b[30mProgress: [ 90%]\u001b[49m\u001b[39m [####################################################......] \u001b8Setting up cm-super (0.3.4-17) ...\r\n",
      "Creating fonts. This may take some time... done.\r\n",
      "\u001b7\u001b[24;0f\u001b[42m\u001b[30mProgress: [ 92%]\u001b[49m\u001b[39m [#####################################################.....] \u001b8Setting up xterm (372-1ubuntu1) ...\r\n",
      "\u001b7\u001b[24;0f\u001b[42m\u001b[30mProgress: [ 92%]\u001b[49m\u001b[39m [#####################################################.....] \u001b8update-alternatives: using /usr/bin/xterm to provide /usr/bin/x-terminal-emulator (x-terminal-emulator) in auto mode\r\n",
      "update-alternatives: warning: skip creation of /usr/share/man/man1/x-terminal-emulator.1.gz because associated file /usr/share/man/man1/xterm.1.gz (of link group x-terminal-emulator) doesn't exist\r\n",
      "update-alternatives: using /usr/bin/lxterm to provide /usr/bin/x-terminal-emulator (x-terminal-emulator) in auto mode\r\n",
      "update-alternatives: warning: skip creation of /usr/share/man/man1/x-terminal-emulator.1.gz because associated file /usr/share/man/man1/lxterm.1.gz (of link group x-terminal-emulator) doesn't exist\r\n",
      "Setting up dvipng (1.15-1.1) ...\r\n",
      "\u001b7\u001b[24;0f\u001b[42m\u001b[30mProgress: [ 93%]\u001b[49m\u001b[39m [######################################################....] \u001b8Setting up libruby3.0:amd64 (3.0.2-7ubuntu2.4) ...\r\n",
      "\u001b7\u001b[24;0f\u001b[42m\u001b[30mProgress: [ 94%]\u001b[49m\u001b[39m [######################################################....] \u001b8Setting up ruby3.0 (3.0.2-7ubuntu2.4) ...\r\n",
      "\u001b7\u001b[24;0f\u001b[42m\u001b[30mProgress: [ 95%]\u001b[49m\u001b[39m [#######################################################...] \u001b8\u001b7\u001b[24;0f\u001b[42m\u001b[30mProgress: [ 96%]\u001b[49m\u001b[39m [#######################################################...] \u001b8Setting up ruby (1:3.0~exp1) ...\r\n",
      "\u001b7\u001b[24;0f\u001b[42m\u001b[30mProgress: [ 97%]\u001b[49m\u001b[39m [########################################################..] \u001b8Setting up rake (13.0.6-2) ...\r\n",
      "\u001b7\u001b[24;0f\u001b[42m\u001b[30mProgress: [ 98%]\u001b[49m\u001b[39m [#########################################################.] \u001b8Setting up ruby-rubygems (3.3.5-2) ...\r\n",
      "\u001b7\u001b[24;0f\u001b[42m\u001b[30mProgress: [ 99%]\u001b[49m\u001b[39m [#########################################################.] \u001b8Processing triggers for man-db (2.10.2-1) ...\r\n",
      "Processing triggers for tex-common (6.17) ...\r\n",
      "Running mktexlsr. This may take some time... done.\r\n",
      "Running updmap-sys. This may take some time... done.\r\n",
      "Running mktexlsr /var/lib/texmf ... done.\r\n",
      "Building format(s) --all.\r\n",
      "\tThis may take some time... done.\r\n",
      "Processing triggers for install-info (6.8-4build1) ...\r\n",
      "Processing triggers for fontconfig (2.13.1-4.2ubuntu5) ...\r\n",
      "Processing triggers for hicolor-icon-theme (0.17-2) ...\r\n",
      "Processing triggers for libc-bin (2.35-0ubuntu3.1) ...\r\n",
      "\r\n",
      "\u001b7\u001b[0;24r\u001b8\u001b[1A\u001b[J"
     ]
    }
   ],
   "source": [
    "# Dependencies for rendering text of matplotlib in LaTeX\n",
    "!sudo apt update -y\n",
    "!sudo apt install -y cm-super dvipng texlive-latex-extra texlive-latex-recommended"
   ]
  },
  {
   "cell_type": "code",
   "execution_count": 2,
   "id": "b971a73d",
   "metadata": {
    "execution": {
     "iopub.execute_input": "2023-07-19T19:51:36.608646Z",
     "iopub.status.busy": "2023-07-19T19:51:36.608304Z",
     "iopub.status.idle": "2023-07-19T19:51:41.945652Z",
     "shell.execute_reply": "2023-07-19T19:51:41.944641Z"
    },
    "papermill": {
     "duration": 5.367295,
     "end_time": "2023-07-19T19:51:41.948373",
     "exception": false,
     "start_time": "2023-07-19T19:51:36.581078",
     "status": "completed"
    },
    "tags": []
   },
   "outputs": [
    {
     "name": "stderr",
     "output_type": "stream",
     "text": [
      "/opt/conda/lib/python3.10/site-packages/scipy/__init__.py:146: UserWarning: A NumPy version >=1.16.5 and <1.23.0 is required for this version of SciPy (detected version 1.23.5\n",
      "  warnings.warn(f\"A NumPy version >={np_minversion} and <{np_maxversion}\"\n"
     ]
    }
   ],
   "source": [
    "import torch\n",
    "import torch.nn as nn\n",
    "import torch.nn.functional as F\n",
    "from torchvision import datasets, transforms\n",
    "from torch.utils.data import random_split\n",
    "from torch.utils.data import WeightedRandomSampler\n",
    "from sklearn.metrics import precision_score, recall_score, f1_score\n",
    "from sklearn.metrics import confusion_matrix\n",
    "from tqdm import tqdm\n",
    "import time\n",
    "import random\n",
    "import os\n",
    "import matplotlib.pyplot as plt\n",
    "import numpy as np\n",
    "import pandas as pd\n",
    "import seaborn as sns\n",
    "import pprint\n",
    "\n",
    "# Consider aesthetics and consistency\n",
    "plt.rcParams.update({\n",
    "        \"text.usetex\": True,\n",
    "        \"font.size\": 15,\n",
    "        'mathtext.default': 'regular',\n",
    "        'axes.titlesize': 16,\n",
    "        \"axes.labelsize\": 16,\n",
    "        \"legend.fontsize\": 15,\n",
    "        \"xtick.labelsize\": 15,\n",
    "        \"ytick.labelsize\": 15,\n",
    "        'figure.titlesize': 16,\n",
    "        'figure.figsize': (12, 7),\n",
    "        'text.latex.preamble': r'\\usepackage{amsmath,amssymb}',\n",
    "        \"font.family\": \"serif\",\n",
    "        \"font.serif\": \"computer modern roman\",\n",
    "        })"
   ]
  },
  {
   "cell_type": "markdown",
   "id": "5e72e5d4",
   "metadata": {
    "papermill": {
     "duration": 0.025415,
     "end_time": "2023-07-19T19:51:42.000577",
     "exception": false,
     "start_time": "2023-07-19T19:51:41.975162",
     "status": "completed"
    },
    "tags": []
   },
   "source": [
    "<a id=\"scrollTo=resources\"></a>\n",
    "## Utilise available resources\n",
    "\n",
    "Starting off, check the available resources."
   ]
  },
  {
   "cell_type": "code",
   "execution_count": 3,
   "id": "694441cb",
   "metadata": {
    "execution": {
     "iopub.execute_input": "2023-07-19T19:51:42.054286Z",
     "iopub.status.busy": "2023-07-19T19:51:42.053778Z",
     "iopub.status.idle": "2023-07-19T19:51:42.133403Z",
     "shell.execute_reply": "2023-07-19T19:51:42.132500Z"
    },
    "papermill": {
     "duration": 0.109074,
     "end_time": "2023-07-19T19:51:42.135360",
     "exception": false,
     "start_time": "2023-07-19T19:51:42.026286",
     "status": "completed"
    },
    "tags": []
   },
   "outputs": [
    {
     "name": "stdout",
     "output_type": "stream",
     "text": [
      "Device: cuda\n",
      "Number of CPU cores: 2\n",
      "GPU name: Tesla P100-PCIE-16GB\n"
     ]
    }
   ],
   "source": [
    "# Check if GPU is available and set the device accordingly\n",
    "device = torch.device(\"cuda\" if torch.cuda.is_available() else \"cpu\")\n",
    "print(f\"Device: {device}\")\n",
    "\n",
    "# Get number of CPU cores\n",
    "num_cpu_cores = os.cpu_count()\n",
    "print(f\"Number of CPU cores: {num_cpu_cores}\")\n",
    "\n",
    "# Get GPU name\n",
    "if torch.cuda.is_available():\n",
    "    gpu_name = torch.cuda.get_device_name(0)\n",
    "    print(f\"GPU name: {gpu_name}\")\n",
    "else:\n",
    "    print(\"No GPU available\")"
   ]
  },
  {
   "cell_type": "markdown",
   "id": "5456152b",
   "metadata": {
    "papermill": {
     "duration": 0.02557,
     "end_time": "2023-07-19T19:51:42.187024",
     "exception": false,
     "start_time": "2023-07-19T19:51:42.161454",
     "status": "completed"
    },
    "tags": []
   },
   "source": [
    "Kaggle's Tesla P100 will be used for training and evaluating the neural model. Also 2 workers (2 CPUs) will be employed for the loading and batching of the data."
   ]
  },
  {
   "cell_type": "markdown",
   "id": "e63d7063",
   "metadata": {
    "papermill": {
     "duration": 0.025513,
     "end_time": "2023-07-19T19:51:42.238433",
     "exception": false,
     "start_time": "2023-07-19T19:51:42.212920",
     "status": "completed"
    },
    "tags": []
   },
   "source": [
    "<a id=\"scrollTo=balance\"></a>\n",
    "## Balance Dataset"
   ]
  },
  {
   "cell_type": "markdown",
   "id": "9a6a75a1",
   "metadata": {
    "papermill": {
     "duration": 0.026076,
     "end_time": "2023-07-19T19:51:42.290119",
     "exception": false,
     "start_time": "2023-07-19T19:51:42.264043",
     "status": "completed"
    },
    "tags": []
   },
   "source": [
    "As was observed in [Notebook 1](https://github.com/mdarm/Pneumonia-X-Ray-Detection/blob/main/src/classical-ml.ipynb), there is a class imbalance, with more pneumonia images than normal images. This can lead to a biased model that may not perform well on the under-represented class. To address this issue, the dataset will be balanced by applying oversampling, undersampling, or a combination of both to make the number of samples in each class equal. This can potentially help the CNN's performance on the under-represented class."
   ]
  },
  {
   "cell_type": "code",
   "execution_count": 4,
   "id": "086d6ef1",
   "metadata": {
    "execution": {
     "iopub.execute_input": "2023-07-19T19:51:42.348228Z",
     "iopub.status.busy": "2023-07-19T19:51:42.346637Z",
     "iopub.status.idle": "2023-07-19T19:51:42.353611Z",
     "shell.execute_reply": "2023-07-19T19:51:42.352718Z"
    },
    "papermill": {
     "duration": 0.039169,
     "end_time": "2023-07-19T19:51:42.355591",
     "exception": false,
     "start_time": "2023-07-19T19:51:42.316422",
     "status": "completed"
    },
    "tags": []
   },
   "outputs": [],
   "source": [
    "def create_weighted_sampler(h, dataset):\n",
    "    targets = [label for _, label in dataset]\n",
    "    class_counts = np.bincount(targets)\n",
    "    class_weights = 1.0 / class_counts\n",
    "    weights = [class_weights[label] for label in targets]\n",
    "    sampler = WeightedRandomSampler(weights, len(weights))\n",
    "    return sampler"
   ]
  },
  {
   "cell_type": "markdown",
   "id": "4e5cba7a",
   "metadata": {
    "papermill": {
     "duration": 0.025899,
     "end_time": "2023-07-19T19:51:42.407318",
     "exception": false,
     "start_time": "2023-07-19T19:51:42.381419",
     "status": "completed"
    },
    "tags": []
   },
   "source": [
    "<a id=\"scrollTo=augmentation\"></a>\n",
    "## Data Pre-processing & Augmentation"
   ]
  },
  {
   "cell_type": "markdown",
   "id": "e0f0fdce",
   "metadata": {
    "papermill": {
     "duration": 0.026501,
     "end_time": "2023-07-19T19:51:42.459707",
     "exception": false,
     "start_time": "2023-07-19T19:51:42.433206",
     "status": "completed"
    },
    "tags": []
   },
   "source": [
    "As opposed to Notebook 1, the preprocessing here will be significantly different given than a CNN will be used.\n",
    "\n",
    "The images' center will now be cropped, as opposed to resizing them, which could potentially distort their aspect ratio. The original proportions of the image are preserved by this alteration, aiding the CNN in better learning from the dataset and comprehending the inherent characteristics of the images.\n",
    "\n",
    "Data augmentation techniques will also be leveraged to enhance the diversity of the training dataset. New training examples are generated through subtle alterations to the original images, such as rotation, flipping, and translation. Overfitting is effectively prevented by this strategy, enabling the CNN to become more resilient and proficient in generalising unseen data.\n",
    "\n",
    "To correctly implement these techniques, a separate transformation for the training data has been designed, ensuring the test set remains unaffected by these augmentations. The same cautious approach is taken with the validation set, maintaining its authenticity by ensuring it does not undergo any data augmentation.\n",
    "\n",
    "Normalisation will still be performed on the whole dataset of course.\n",
    "\n",
    "Here's a brief overview of the aforementioned pipeline:\n",
    "\n",
    "<div style=\"text-align:center\">\n",
    "<img src=\"https://i.imgur.com/aTDU4Vt.png\" alt=\"workflow3\" width=\"500\" height=\"600\"/>\n",
    "</div>\n",
    "\n",
    "With the augmented volume of data, the CNN can be trained in more epochs without the risk of overfitting. This presents an opportunity to further refine the CNN's learning through additional training iterations, which should result in more accurate predictions.\n",
    "\n",
    "With these enhancements and considerations in place, and enhanced ability of the CNN to perform better on unseen data while maintaining robustness against overfitting can reasonably be expected."
   ]
  },
  {
   "cell_type": "code",
   "execution_count": 5,
   "id": "c4dd43de",
   "metadata": {
    "execution": {
     "iopub.execute_input": "2023-07-19T19:51:42.512337Z",
     "iopub.status.busy": "2023-07-19T19:51:42.512013Z",
     "iopub.status.idle": "2023-07-19T19:51:42.525161Z",
     "shell.execute_reply": "2023-07-19T19:51:42.524320Z"
    },
    "papermill": {
     "duration": 0.041741,
     "end_time": "2023-07-19T19:51:42.526953",
     "exception": false,
     "start_time": "2023-07-19T19:51:42.485212",
     "status": "completed"
    },
    "tags": []
   },
   "outputs": [],
   "source": [
    "def prepare_data(h):\n",
    "    data_transforms = transforms.Compose([\n",
    "        transforms.Resize(size=(h[\"image_size\"], h[\"image_size\"])),\n",
    "        transforms.ToTensor(),\n",
    "        transforms.Normalize(mean=[0.485, 0.456, 0.406],\n",
    "                            std=[0.229, 0.224, 0.225])\n",
    "    ])\n",
    "\n",
    "    data_transforms_train = transforms.Compose([\n",
    "        transforms.RandomRotation(20),                                               # Randomly rotate image\n",
    "        transforms.RandomHorizontalFlip(p=0.5),                                      # Randomly flip image\n",
    "        transforms.ColorJitter(brightness=0.1, contrast=0.1,\n",
    "                               saturation=0.1, hue=0.1),                             # Randomly change the b/c/h\n",
    "        transforms.RandomApply([transforms.RandomAffine(0, \n",
    "                               translate=(0.1, 0.1))], p=0.5),                       # Randomly apply affine transformations with translation\n",
    "        transforms.RandomApply([transforms.RandomPerspective(distortion_scale=0.2)],\n",
    "                               p=0.5),                                               # Randomly apply perspective transformations\n",
    "        transforms.Resize(size=(h[\"image_size\"], h[\"image_size\"])),                  # Resize data\n",
    "        transforms.ToTensor(),\n",
    "        transforms.Normalize(mean=[0.485, 0.456, 0.406],                             # Normalise data\n",
    "                            std=[0.229, 0.224, 0.225])\n",
    "    ])\n",
    "\n",
    "\n",
    "    # Define the validation split percentage\n",
    "    val_split = 0.2\n",
    "\n",
    "    # Load the datasets\n",
    "    train_dataset = datasets.ImageFolder(\"/kaggle/input/chest-xray-pneumonia/chest_xray/train/\",\n",
    "                                         transform=data_transforms_train)\n",
    "    val_dataset = datasets.ImageFolder(\"/kaggle/input/chest-xray-pneumonia/chest_xray/train/\",\n",
    "                                       transform=data_transforms)    \n",
    "    test_dataset = datasets.ImageFolder(\"/kaggle/input/chest-xray-pneumonia/chest_xray/test/\",\n",
    "                                        transform=data_transforms)\n",
    "\n",
    "    # Create the data loaders for train, validation, and test sets\n",
    "    if (h[\"balance\"]):\n",
    "        sampler = create_weighted_sampler(h, train_dataset)\n",
    "        train_loader = torch.utils.data.DataLoader(train_dataset, batch_size=h[\"batch_size\"],\n",
    "                                                   sampler=sampler, num_workers=2)    \n",
    "    else:\n",
    "        train_loader = torch.utils.data.DataLoader(train_dataset, batch_size=h[\"batch_size\"],\n",
    "                                                   shuffle=True, num_workers=2)    \n",
    "    val_loader = torch.utils.data.DataLoader(val_dataset, batch_size=h[\"batch_size\"],\n",
    "                                             shuffle=True, num_workers=2)\n",
    "    test_loader = torch.utils.data.DataLoader(test_dataset, batch_size=h[\"batch_size\"],\n",
    "                                              shuffle=True, num_workers=2)\n",
    "\n",
    "    return train_loader, val_loader, test_loader"
   ]
  },
  {
   "cell_type": "markdown",
   "id": "2c07b59a",
   "metadata": {
    "papermill": {
     "duration": 0.026474,
     "end_time": "2023-07-19T19:51:42.579552",
     "exception": false,
     "start_time": "2023-07-19T19:51:42.553078",
     "status": "completed"
    },
    "tags": []
   },
   "source": [
    "<a id=\"scrollTo=cnn\"></a>\n",
    "## CNN Architecture"
   ]
  },
  {
   "cell_type": "markdown",
   "id": "8fbf10c5",
   "metadata": {
    "papermill": {
     "duration": 0.025386,
     "end_time": "2023-07-19T19:51:42.630834",
     "exception": false,
     "start_time": "2023-07-19T19:51:42.605448",
     "status": "completed"
    },
    "tags": []
   },
   "source": [
    "As mentioned before, the model of choice will be a Convolutional Neural Network. CNNs are designed to work with image data and can capture local patterns more efficiently than fully connected layers. They can also handle larger input images, which can lead to better performance.\n",
    "\n",
    "The custom CNN architecture will consist of multiple convolutional layers, followed by max-pooling layers, and finally a fully connected layer for classification. The image size will be set to 256x256, as CNNs can handle larger images better.\n",
    "\n",
    "Here's a brief overview of the CNN's architecture:\n",
    "\n",
    "<div style=\"text-align:center\">\n",
    "<img src=\"https://i.imgur.com/TcvLftf.png\" alt=\"cnn\" width=\"500\" height=\"600\"/>\n",
    "</div>"
   ]
  },
  {
   "cell_type": "code",
   "execution_count": 6,
   "id": "f76d4c9e",
   "metadata": {
    "execution": {
     "iopub.execute_input": "2023-07-19T19:51:42.684230Z",
     "iopub.status.busy": "2023-07-19T19:51:42.683917Z",
     "iopub.status.idle": "2023-07-19T19:51:42.691382Z",
     "shell.execute_reply": "2023-07-19T19:51:42.690356Z"
    },
    "papermill": {
     "duration": 0.036977,
     "end_time": "2023-07-19T19:51:42.693902",
     "exception": false,
     "start_time": "2023-07-19T19:51:42.656925",
     "status": "completed"
    },
    "tags": []
   },
   "outputs": [],
   "source": [
    "def create_model(h, device):\n",
    "    if (h[\"model\"]==\"cnn\"):\n",
    "        model = nn.Sequential(\n",
    "            nn.Conv2d(3, 16, 3, padding=1),\n",
    "            nn.ReLU(),\n",
    "            nn.MaxPool2d(2, 2),\n",
    "            nn.Conv2d(16, 32, 3, padding=1),\n",
    "            nn.ReLU(),\n",
    "            nn.MaxPool2d(2, 2),\n",
    "            nn.Conv2d(32, 64, 3, padding=1),\n",
    "            nn.ReLU(),\n",
    "            nn.MaxPool2d(2, 2),\n",
    "            nn.Flatten(),\n",
    "            nn.Dropout(0.25),\n",
    "            nn.Linear(64 * (h[\"image_size\"] // 8) * (h[\"image_size\"] // 8), 512),\n",
    "            nn.ReLU(),\n",
    "            nn.Dropout(0.25),\n",
    "            nn.Linear(512, 2)\n",
    "        )\n",
    "        model = model.to(device)\n",
    "        return model"
   ]
  },
  {
   "cell_type": "markdown",
   "id": "d8a53418",
   "metadata": {
    "papermill": {
     "duration": 0.025522,
     "end_time": "2023-07-19T19:51:42.745083",
     "exception": false,
     "start_time": "2023-07-19T19:51:42.719561",
     "status": "completed"
    },
    "tags": []
   },
   "source": [
    "<a id=\"scrollTo=fit\"></a>\n",
    "### Model fitting"
   ]
  },
  {
   "cell_type": "markdown",
   "id": "eb1e7518",
   "metadata": {
    "papermill": {
     "duration": 0.025452,
     "end_time": "2023-07-19T19:51:42.796277",
     "exception": false,
     "start_time": "2023-07-19T19:51:42.770825",
     "status": "completed"
    },
    "tags": []
   },
   "source": [
    "Provided the augmentation of the dataset, the model will be trained for 10 epochs, using a 0.001 learning rate."
   ]
  },
  {
   "cell_type": "code",
   "execution_count": 7,
   "id": "fecfa73b",
   "metadata": {
    "execution": {
     "iopub.execute_input": "2023-07-19T19:51:42.850990Z",
     "iopub.status.busy": "2023-07-19T19:51:42.850695Z",
     "iopub.status.idle": "2023-07-19T19:51:42.861470Z",
     "shell.execute_reply": "2023-07-19T19:51:42.860489Z"
    },
    "papermill": {
     "duration": 0.040252,
     "end_time": "2023-07-19T19:51:42.863352",
     "exception": false,
     "start_time": "2023-07-19T19:51:42.823100",
     "status": "completed"
    },
    "tags": []
   },
   "outputs": [],
   "source": [
    "h = {\n",
    "    \"balance\": True,\n",
    "    \"num_epochs\": 10,\n",
    "    \"batch_size\": 256,\n",
    "    \"image_size\": 256,\n",
    "    \"lr\": 0.001,\n",
    "    \"model\": \"cnn\"\n",
    "}\n",
    "\n",
    "\n",
    "def train_model(h, model, train_loader, val_loader, optimizer, criterion, device):\n",
    "    train_loss_history = []\n",
    "    val_loss_history = []\n",
    "\n",
    "    start_time = time.time()\n",
    "    num_epochs = h[\"num_epochs\"]\n",
    "\n",
    "    for epoch in range(num_epochs):\n",
    "        model.train()\n",
    "        running_loss = 0.0\n",
    "\n",
    "        progress_bar = tqdm(train_loader, desc=f\"Training epoch {epoch + 1}/{num_epochs}\", leave=False, unit=\"mini-batch\")\n",
    "        for inputs, labels in progress_bar:\n",
    "            inputs, labels = inputs.to(device), labels.to(device)      \n",
    "            optimizer.zero_grad()\n",
    "            outputs = model(inputs)\n",
    "            loss = criterion(outputs, labels)\n",
    "            loss.backward()\n",
    "            optimizer.step()\n",
    "\n",
    "            running_loss += loss.item()\n",
    "            progress_bar.set_postfix(loss=loss.item())\n",
    "\n",
    "\n",
    "        val_loss, _, _, _ = evaluate_model(h, model, val_loader, criterion, device)\n",
    "        \n",
    "        # Store the loss history\n",
    "        train_loss = running_loss / len(train_loader)\n",
    "        train_loss_history.append(train_loss)\n",
    "        val_loss_history.append(val_loss)\n",
    "\n",
    "        # Calculate elapsed time and remaining time\n",
    "        elapsed_time = time.time() - start_time\n",
    "        avg_time_per_epoch = elapsed_time / (epoch + 1)\n",
    "        remaining_epochs = num_epochs - (epoch + 1)\n",
    "        remaining_time = avg_time_per_epoch * remaining_epochs\n",
    "\n",
    "        # Convert remaining time to minutes and seconds\n",
    "        remaining_time_min, remaining_time_sec = divmod(remaining_time, 60)\n",
    "\n",
    "        print(f\"Epoch [{epoch + 1}/{num_epochs}]: Train Loss: {running_loss / len(train_loader):.4f}, Val Loss: {val_loss:.4f}, Remaining Time: {remaining_time_min:.0f}m {remaining_time_sec:.0f}s\")\n",
    "\n",
    "    return train_loss_history, val_loss_history"
   ]
  },
  {
   "cell_type": "markdown",
   "id": "ac2b9332",
   "metadata": {
    "papermill": {
     "duration": 0.025498,
     "end_time": "2023-07-19T19:51:42.914975",
     "exception": false,
     "start_time": "2023-07-19T19:51:42.889477",
     "status": "completed"
    },
    "tags": []
   },
   "source": [
    "<a id=\"scrollTo=evaluation\"></a>\n",
    "### Model evaluation"
   ]
  },
  {
   "cell_type": "markdown",
   "id": "d97df86d",
   "metadata": {
    "papermill": {
     "duration": 0.032992,
     "end_time": "2023-07-19T19:51:42.973614",
     "exception": false,
     "start_time": "2023-07-19T19:51:42.940622",
     "status": "completed"
    },
    "tags": []
   },
   "source": [
    "The F1 score will be used as a basic evaluation metric. It is useful for evaluating models when there is class imbalance, as it provides a more balanced measure of the model's performance. The F1 score ranges from 0 (worst) to 1 (best)."
   ]
  },
  {
   "cell_type": "code",
   "execution_count": 8,
   "id": "fa4c0672",
   "metadata": {
    "execution": {
     "iopub.execute_input": "2023-07-19T19:51:43.027266Z",
     "iopub.status.busy": "2023-07-19T19:51:43.026927Z",
     "iopub.status.idle": "2023-07-19T19:51:43.042133Z",
     "shell.execute_reply": "2023-07-19T19:51:43.041098Z"
    },
    "papermill": {
     "duration": 0.044416,
     "end_time": "2023-07-19T19:51:43.044004",
     "exception": false,
     "start_time": "2023-07-19T19:51:42.999588",
     "status": "completed"
    },
    "tags": []
   },
   "outputs": [],
   "source": [
    "def plot_confusion_matrix(predictions, y_test, title):\n",
    "    labels = ['Normal', 'Pnuemonia']\n",
    "    \n",
    "    cm = confusion_matrix(y_test,predictions)\n",
    "    cm = pd.DataFrame(cm , index = labels , columns = labels)\n",
    "    \n",
    "    plt.figure()\n",
    "    sns.heatmap(cm, cmap=\"YlGnBu\", linecolor = 'black' , linewidth = 1,\n",
    "                annot = True, fmt='', xticklabels = labels,\n",
    "                yticklabels = labels)\n",
    "    \n",
    "    plt.title(title, fontsize = 20)\n",
    "    plt.xlabel('Predicted', fontsize = 15)\n",
    "    plt.ylabel('Actual', fontsize = 15)\n",
    "    \n",
    "    plt.savefig('/kaggle/working/confusionMatrix.pdf',\n",
    "                format='pdf', bbox_inches='tight', dpi=300, transparent=True)\n",
    "    plt.show()\n",
    "    \n",
    "\n",
    "def evaluate_model(h, model, data_loader, criterion, device):\n",
    "    true_labels = []\n",
    "    predicted_labels = []\n",
    "    total_loss = 0.0\n",
    "    correct = 0\n",
    "    total = 0\n",
    "    model.eval()\n",
    "    with torch.no_grad():\n",
    "        for inputs, labels in data_loader:\n",
    "            inputs, labels = inputs.to(device), labels.to(device)          \n",
    "\n",
    "            outputs = model(inputs)\n",
    "\n",
    "            loss = criterion(outputs, labels)\n",
    "            total_loss += loss.item()\n",
    "\n",
    "            _, predicted = torch.max(outputs.data, 1)\n",
    "            correct += (predicted == labels).sum().item()\n",
    "            total += labels.size(0)\n",
    "\n",
    "            true_labels.extend(labels.cpu().numpy())\n",
    "            predicted_labels.extend(predicted.cpu().numpy())\n",
    "\n",
    "    epoch_loss = total_loss / len(data_loader)\n",
    "    epoch_accuracy = correct / total\n",
    "\n",
    "    return epoch_loss, epoch_accuracy, true_labels, predicted_labels\n",
    "\n",
    "\n",
    "def plot_metrics(h, train_loss_history, val_loss_history, test_loss, test_accuracy, true_labels, predicted_labels):\n",
    "    print(f\"Accuracy on the test set: {test_accuracy:.2%}\")\n",
    "\n",
    "    # Calculate precision, recall, and F1 score using the accumulated true labels and predictions\n",
    "    precision = precision_score(true_labels, predicted_labels)\n",
    "    recall = recall_score(true_labels, predicted_labels)\n",
    "    f1 = f1_score(true_labels, predicted_labels)\n",
    "    print(f\"Precision: {precision:.2f}, Recall: {recall:.2f}, F1 score: {f1:.2f}\")\n",
    "\n",
    "    # Calculate the confusion matrix using the accumulated true labels and predictions\n",
    "    plot_confusion_matrix(predicted_labels, true_labels,\n",
    "                          'CNN with Data Augmentation and class weighting')\n",
    "\n",
    "    # Plot the learning curves\n",
    "    plt.figure()\n",
    "    plt.plot(train_loss_history, label='Train Loss')\n",
    "    plt.plot(val_loss_history, label='Validation Loss')\n",
    "    plt.xlabel('Epoch')\n",
    "    plt.ylabel('Loss')\n",
    "    plt.title('Loss history')\n",
    "    plt.legend()\n",
    "    plt.savefig('/kaggle/working/LossHistory.pdf',\n",
    "                format='pdf', bbox_inches='tight', dpi=300, transparent=True)\n",
    "    \n",
    "    plt.show()  "
   ]
  },
  {
   "cell_type": "markdown",
   "id": "f958020c",
   "metadata": {
    "papermill": {
     "duration": 0.046188,
     "end_time": "2023-07-19T19:51:43.126377",
     "exception": false,
     "start_time": "2023-07-19T19:51:43.080189",
     "status": "completed"
    },
    "tags": []
   },
   "source": [
    "<a id=\"scrollTo=ss\"></a>\n",
    "### Running the model and Statistical Significance"
   ]
  },
  {
   "cell_type": "markdown",
   "id": "4dc74266",
   "metadata": {
    "papermill": {
     "duration": 0.02564,
     "end_time": "2023-07-19T19:51:43.194619",
     "exception": false,
     "start_time": "2023-07-19T19:51:43.168979",
     "status": "completed"
    },
    "tags": []
   },
   "source": [
    "Since the training process is random, the training and testing will be repeated several times to measure the statistical significance of the results."
   ]
  },
  {
   "cell_type": "code",
   "execution_count": 9,
   "id": "797aef6a",
   "metadata": {
    "execution": {
     "iopub.execute_input": "2023-07-19T19:51:43.247905Z",
     "iopub.status.busy": "2023-07-19T19:51:43.247577Z",
     "iopub.status.idle": "2023-07-20T04:45:33.828446Z",
     "shell.execute_reply": "2023-07-20T04:45:33.827125Z"
    },
    "papermill": {
     "duration": 32030.611292,
     "end_time": "2023-07-20T04:45:33.831535",
     "exception": false,
     "start_time": "2023-07-19T19:51:43.220243",
     "status": "completed"
    },
    "tags": []
   },
   "outputs": [
    {
     "name": "stdout",
     "output_type": "stream",
     "text": [
      "Hyperparameters:\n",
      "{'balance': True,\n",
      " 'batch_size': 256,\n",
      " 'image_size': 256,\n",
      " 'lr': 0.001,\n",
      " 'model': 'cnn',\n",
      " 'num_epochs': 10}\n",
      "Running solution 1/5\n"
     ]
    },
    {
     "name": "stderr",
     "output_type": "stream",
     "text": [
      "                                                                                        \r"
     ]
    },
    {
     "name": "stdout",
     "output_type": "stream",
     "text": [
      "Epoch [1/10]: Train Loss: 0.7957, Val Loss: 0.6526, Remaining Time: 87m 27s\n"
     ]
    },
    {
     "name": "stderr",
     "output_type": "stream",
     "text": [
      "                                                                                        \r"
     ]
    },
    {
     "name": "stdout",
     "output_type": "stream",
     "text": [
      "Epoch [2/10]: Train Loss: 0.3997, Val Loss: 0.2494, Remaining Time: 77m 28s\n"
     ]
    },
    {
     "name": "stderr",
     "output_type": "stream",
     "text": [
      "                                                                                        \r"
     ]
    },
    {
     "name": "stdout",
     "output_type": "stream",
     "text": [
      "Epoch [3/10]: Train Loss: 0.2588, Val Loss: 0.2174, Remaining Time: 67m 38s\n"
     ]
    },
    {
     "name": "stderr",
     "output_type": "stream",
     "text": [
      "                                                                                         \r"
     ]
    },
    {
     "name": "stdout",
     "output_type": "stream",
     "text": [
      "Epoch [4/10]: Train Loss: 0.2187, Val Loss: 0.1533, Remaining Time: 58m 1s\n"
     ]
    },
    {
     "name": "stderr",
     "output_type": "stream",
     "text": [
      "                                                                                      \r"
     ]
    },
    {
     "name": "stdout",
     "output_type": "stream",
     "text": [
      "Epoch [5/10]: Train Loss: 0.1845, Val Loss: 0.1877, Remaining Time: 48m 20s\n"
     ]
    },
    {
     "name": "stderr",
     "output_type": "stream",
     "text": [
      "                                                                                       \r"
     ]
    },
    {
     "name": "stdout",
     "output_type": "stream",
     "text": [
      "Epoch [6/10]: Train Loss: 0.1755, Val Loss: 0.2248, Remaining Time: 38m 41s\n"
     ]
    },
    {
     "name": "stderr",
     "output_type": "stream",
     "text": [
      "                                                                                        \r"
     ]
    },
    {
     "name": "stdout",
     "output_type": "stream",
     "text": [
      "Epoch [7/10]: Train Loss: 0.1895, Val Loss: 0.1495, Remaining Time: 29m 0s\n"
     ]
    },
    {
     "name": "stderr",
     "output_type": "stream",
     "text": [
      "                                                                                        \r"
     ]
    },
    {
     "name": "stdout",
     "output_type": "stream",
     "text": [
      "Epoch [8/10]: Train Loss: 0.1604, Val Loss: 0.3257, Remaining Time: 19m 21s\n"
     ]
    },
    {
     "name": "stderr",
     "output_type": "stream",
     "text": [
      "                                                                                        \r"
     ]
    },
    {
     "name": "stdout",
     "output_type": "stream",
     "text": [
      "Epoch [9/10]: Train Loss: 0.1754, Val Loss: 0.1356, Remaining Time: 9m 41s\n"
     ]
    },
    {
     "name": "stderr",
     "output_type": "stream",
     "text": [
      "                                                                                         \r"
     ]
    },
    {
     "name": "stdout",
     "output_type": "stream",
     "text": [
      "Epoch [10/10]: Train Loss: 0.1422, Val Loss: 0.1176, Remaining Time: 0m 0s\n",
      "Accuracy on the test set: 82.37%\n",
      "Precision: 0.80, Recall: 0.96, F1 score: 0.87\n"
     ]
    },
    {
     "data": {
      "image/png": "[encoded data removed]",
      "text/plain": [
       "<Figure size 1200x700 with 2 Axes>"
      ]
     },
     "metadata": {},
     "output_type": "display_data"
    },
    {
     "data": {
      "image/png": "[encoded data removed]",
      "text/plain": [
       "<Figure size 1200x700 with 1 Axes>"
      ]
     },
     "metadata": {},
     "output_type": "display_data"
    },
    {
     "name": "stdout",
     "output_type": "stream",
     "text": [
      "F1 = 0.87, accuracy = 0.82 \n",
      "Running solution 2/5\n"
     ]
    },
    {
     "name": "stderr",
     "output_type": "stream",
     "text": [
      "                                                                                        \r"
     ]
    },
    {
     "name": "stdout",
     "output_type": "stream",
     "text": [
      "Epoch [1/10]: Train Loss: 1.2731, Val Loss: 0.6837, Remaining Time: 88m 3s\n"
     ]
    },
    {
     "name": "stderr",
     "output_type": "stream",
     "text": [
      "                                                                                        \r"
     ]
    },
    {
     "name": "stdout",
     "output_type": "stream",
     "text": [
      "Epoch [2/10]: Train Loss: 0.4579, Val Loss: 0.3153, Remaining Time: 77m 49s\n"
     ]
    },
    {
     "name": "stderr",
     "output_type": "stream",
     "text": [
      "                                                                                        \r"
     ]
    },
    {
     "name": "stdout",
     "output_type": "stream",
     "text": [
      "Epoch [3/10]: Train Loss: 0.3315, Val Loss: 0.1912, Remaining Time: 68m 10s\n"
     ]
    },
    {
     "name": "stderr",
     "output_type": "stream",
     "text": [
      "                                                                                        \r"
     ]
    },
    {
     "name": "stdout",
     "output_type": "stream",
     "text": [
      "Epoch [4/10]: Train Loss: 0.2595, Val Loss: 0.1946, Remaining Time: 57m 56s\n"
     ]
    },
    {
     "name": "stderr",
     "output_type": "stream",
     "text": [
      "                                                                                        \r"
     ]
    },
    {
     "name": "stdout",
     "output_type": "stream",
     "text": [
      "Epoch [5/10]: Train Loss: 0.2017, Val Loss: 0.1450, Remaining Time: 48m 16s\n"
     ]
    },
    {
     "name": "stderr",
     "output_type": "stream",
     "text": [
      "                                                                                        \r"
     ]
    },
    {
     "name": "stdout",
     "output_type": "stream",
     "text": [
      "Epoch [6/10]: Train Loss: 0.1932, Val Loss: 0.2256, Remaining Time: 38m 33s\n"
     ]
    },
    {
     "name": "stderr",
     "output_type": "stream",
     "text": [
      "                                                                                        \r"
     ]
    },
    {
     "name": "stdout",
     "output_type": "stream",
     "text": [
      "Epoch [7/10]: Train Loss: 0.2145, Val Loss: 0.1503, Remaining Time: 28m 58s\n"
     ]
    },
    {
     "name": "stderr",
     "output_type": "stream",
     "text": [
      "                                                                                        \r"
     ]
    },
    {
     "name": "stdout",
     "output_type": "stream",
     "text": [
      "Epoch [8/10]: Train Loss: 0.1975, Val Loss: 0.2401, Remaining Time: 19m 18s\n"
     ]
    },
    {
     "name": "stderr",
     "output_type": "stream",
     "text": [
      "                                                                                        \r"
     ]
    },
    {
     "name": "stdout",
     "output_type": "stream",
     "text": [
      "Epoch [9/10]: Train Loss: 0.1886, Val Loss: 0.1765, Remaining Time: 9m 39s\n"
     ]
    },
    {
     "name": "stderr",
     "output_type": "stream",
     "text": [
      "                                                                                         \r"
     ]
    },
    {
     "name": "stdout",
     "output_type": "stream",
     "text": [
      "Epoch [10/10]: Train Loss: 0.1729, Val Loss: 0.1803, Remaining Time: 0m 0s\n",
      "F1 = 0.91, accuracy = 0.88 \n",
      "Running solution 3/5\n"
     ]
    },
    {
     "name": "stderr",
     "output_type": "stream",
     "text": [
      "                                                                                       \r"
     ]
    },
    {
     "name": "stdout",
     "output_type": "stream",
     "text": [
      "Epoch [1/10]: Train Loss: 1.0000, Val Loss: 0.5594, Remaining Time: 87m 37s\n"
     ]
    },
    {
     "name": "stderr",
     "output_type": "stream",
     "text": [
      "                                                                                        \r"
     ]
    },
    {
     "name": "stdout",
     "output_type": "stream",
     "text": [
      "Epoch [2/10]: Train Loss: 0.4026, Val Loss: 0.1874, Remaining Time: 76m 55s\n"
     ]
    },
    {
     "name": "stderr",
     "output_type": "stream",
     "text": [
      "                                                                                       \r"
     ]
    },
    {
     "name": "stdout",
     "output_type": "stream",
     "text": [
      "Epoch [3/10]: Train Loss: 0.2952, Val Loss: 0.1682, Remaining Time: 67m 24s\n"
     ]
    },
    {
     "name": "stderr",
     "output_type": "stream",
     "text": [
      "                                                                                        \r"
     ]
    },
    {
     "name": "stdout",
     "output_type": "stream",
     "text": [
      "Epoch [4/10]: Train Loss: 0.2331, Val Loss: 0.2374, Remaining Time: 58m 4s\n"
     ]
    },
    {
     "name": "stderr",
     "output_type": "stream",
     "text": [
      "                                                                                       \r"
     ]
    },
    {
     "name": "stdout",
     "output_type": "stream",
     "text": [
      "Epoch [5/10]: Train Loss: 0.2583, Val Loss: 0.1589, Remaining Time: 48m 34s\n"
     ]
    },
    {
     "name": "stderr",
     "output_type": "stream",
     "text": [
      "                                                                                        \r"
     ]
    },
    {
     "name": "stdout",
     "output_type": "stream",
     "text": [
      "Epoch [6/10]: Train Loss: 0.2167, Val Loss: 0.2128, Remaining Time: 38m 51s\n"
     ]
    },
    {
     "name": "stderr",
     "output_type": "stream",
     "text": [
      "                                                                                        \r"
     ]
    },
    {
     "name": "stdout",
     "output_type": "stream",
     "text": [
      "Epoch [7/10]: Train Loss: 0.1875, Val Loss: 0.1610, Remaining Time: 29m 7s\n"
     ]
    },
    {
     "name": "stderr",
     "output_type": "stream",
     "text": [
      "                                                                                        \r"
     ]
    },
    {
     "name": "stdout",
     "output_type": "stream",
     "text": [
      "Epoch [8/10]: Train Loss: 0.1814, Val Loss: 0.1320, Remaining Time: 19m 26s\n"
     ]
    },
    {
     "name": "stderr",
     "output_type": "stream",
     "text": [
      "                                                                                      \r"
     ]
    },
    {
     "name": "stdout",
     "output_type": "stream",
     "text": [
      "Epoch [9/10]: Train Loss: 0.1973, Val Loss: 0.1213, Remaining Time: 9m 43s\n"
     ]
    },
    {
     "name": "stderr",
     "output_type": "stream",
     "text": [
      "                                                                                         \r"
     ]
    },
    {
     "name": "stdout",
     "output_type": "stream",
     "text": [
      "Epoch [10/10]: Train Loss: 0.1784, Val Loss: 0.1716, Remaining Time: 0m 0s\n",
      "F1 = 0.90, accuracy = 0.87 \n",
      "Running solution 4/5\n"
     ]
    },
    {
     "name": "stderr",
     "output_type": "stream",
     "text": [
      "                                                                                        \r"
     ]
    },
    {
     "name": "stdout",
     "output_type": "stream",
     "text": [
      "Epoch [1/10]: Train Loss: 1.0857, Val Loss: 0.7062, Remaining Time: 90m 41s\n"
     ]
    },
    {
     "name": "stderr",
     "output_type": "stream",
     "text": [
      "                                                                                        \r"
     ]
    },
    {
     "name": "stdout",
     "output_type": "stream",
     "text": [
      "Epoch [2/10]: Train Loss: 0.5054, Val Loss: 0.9472, Remaining Time: 80m 18s\n"
     ]
    },
    {
     "name": "stderr",
     "output_type": "stream",
     "text": [
      "                                                                                        \r"
     ]
    },
    {
     "name": "stdout",
     "output_type": "stream",
     "text": [
      "Epoch [3/10]: Train Loss: 0.3196, Val Loss: 0.4076, Remaining Time: 70m 54s\n"
     ]
    },
    {
     "name": "stderr",
     "output_type": "stream",
     "text": [
      "                                                                                        \r"
     ]
    },
    {
     "name": "stdout",
     "output_type": "stream",
     "text": [
      "Epoch [4/10]: Train Loss: 0.2683, Val Loss: 0.2110, Remaining Time: 60m 47s\n"
     ]
    },
    {
     "name": "stderr",
     "output_type": "stream",
     "text": [
      "                                                                                        \r"
     ]
    },
    {
     "name": "stdout",
     "output_type": "stream",
     "text": [
      "Epoch [5/10]: Train Loss: 0.2412, Val Loss: 0.1971, Remaining Time: 50m 25s\n"
     ]
    },
    {
     "name": "stderr",
     "output_type": "stream",
     "text": [
      "                                                                                        \r"
     ]
    },
    {
     "name": "stdout",
     "output_type": "stream",
     "text": [
      "Epoch [6/10]: Train Loss: 0.2096, Val Loss: 0.1940, Remaining Time: 40m 21s\n"
     ]
    },
    {
     "name": "stderr",
     "output_type": "stream",
     "text": [
      "                                                                                        \r"
     ]
    },
    {
     "name": "stdout",
     "output_type": "stream",
     "text": [
      "Epoch [7/10]: Train Loss: 0.1876, Val Loss: 0.1660, Remaining Time: 30m 12s\n"
     ]
    },
    {
     "name": "stderr",
     "output_type": "stream",
     "text": [
      "                                                                                       \r"
     ]
    },
    {
     "name": "stdout",
     "output_type": "stream",
     "text": [
      "Epoch [8/10]: Train Loss: 0.1914, Val Loss: 0.1453, Remaining Time: 20m 4s\n"
     ]
    },
    {
     "name": "stderr",
     "output_type": "stream",
     "text": [
      "                                                                                       \r"
     ]
    },
    {
     "name": "stdout",
     "output_type": "stream",
     "text": [
      "Epoch [9/10]: Train Loss: 0.1770, Val Loss: 0.1264, Remaining Time: 10m 1s\n"
     ]
    },
    {
     "name": "stderr",
     "output_type": "stream",
     "text": [
      "                                                                                         \r"
     ]
    },
    {
     "name": "stdout",
     "output_type": "stream",
     "text": [
      "Epoch [10/10]: Train Loss: 0.1812, Val Loss: 0.1126, Remaining Time: 0m 0s\n",
      "F1 = 0.84, accuracy = 0.76 \n",
      "Running solution 5/5\n"
     ]
    },
    {
     "name": "stderr",
     "output_type": "stream",
     "text": [
      "                                                                                        \r"
     ]
    },
    {
     "name": "stdout",
     "output_type": "stream",
     "text": [
      "Epoch [1/10]: Train Loss: 1.0947, Val Loss: 0.6868, Remaining Time: 88m 14s\n"
     ]
    },
    {
     "name": "stderr",
     "output_type": "stream",
     "text": [
      "                                                                                        \r"
     ]
    },
    {
     "name": "stdout",
     "output_type": "stream",
     "text": [
      "Epoch [2/10]: Train Loss: 0.3975, Val Loss: 0.1828, Remaining Time: 79m 18s\n"
     ]
    },
    {
     "name": "stderr",
     "output_type": "stream",
     "text": [
      "                                                                                        \r"
     ]
    },
    {
     "name": "stdout",
     "output_type": "stream",
     "text": [
      "Epoch [3/10]: Train Loss: 0.2612, Val Loss: 0.2158, Remaining Time: 69m 35s\n"
     ]
    },
    {
     "name": "stderr",
     "output_type": "stream",
     "text": [
      "                                                                                        \r"
     ]
    },
    {
     "name": "stdout",
     "output_type": "stream",
     "text": [
      "Epoch [4/10]: Train Loss: 0.2095, Val Loss: 0.1616, Remaining Time: 59m 52s\n"
     ]
    },
    {
     "name": "stderr",
     "output_type": "stream",
     "text": [
      "                                                                                        \r"
     ]
    },
    {
     "name": "stdout",
     "output_type": "stream",
     "text": [
      "Epoch [5/10]: Train Loss: 0.1882, Val Loss: 0.2210, Remaining Time: 49m 49s\n"
     ]
    },
    {
     "name": "stderr",
     "output_type": "stream",
     "text": [
      "                                                                                        \r"
     ]
    },
    {
     "name": "stdout",
     "output_type": "stream",
     "text": [
      "Epoch [6/10]: Train Loss: 0.2015, Val Loss: 0.1629, Remaining Time: 39m 52s\n"
     ]
    },
    {
     "name": "stderr",
     "output_type": "stream",
     "text": [
      "                                                                                      \r"
     ]
    },
    {
     "name": "stdout",
     "output_type": "stream",
     "text": [
      "Epoch [7/10]: Train Loss: 0.1664, Val Loss: 0.1442, Remaining Time: 29m 54s\n"
     ]
    },
    {
     "name": "stderr",
     "output_type": "stream",
     "text": [
      "                                                                                         \r"
     ]
    },
    {
     "name": "stdout",
     "output_type": "stream",
     "text": [
      "Epoch [8/10]: Train Loss: 0.1457, Val Loss: 0.2649, Remaining Time: 19m 58s\n"
     ]
    },
    {
     "name": "stderr",
     "output_type": "stream",
     "text": [
      "                                                                                        \r"
     ]
    },
    {
     "name": "stdout",
     "output_type": "stream",
     "text": [
      "Epoch [9/10]: Train Loss: 0.1572, Val Loss: 0.1174, Remaining Time: 9m 58s\n"
     ]
    },
    {
     "name": "stderr",
     "output_type": "stream",
     "text": [
      "                                                                                         \r"
     ]
    },
    {
     "name": "stdout",
     "output_type": "stream",
     "text": [
      "Epoch [10/10]: Train Loss: 0.1479, Val Loss: 0.2661, Remaining Time: 0m 0s\n",
      "F1 = 0.90, accuracy = 0.88 \n",
      "Results\n",
      "F1 List: [0.87238979 0.90598291 0.89890378 0.8380744  0.89986996]\n",
      "Accuracy List: [0.82371795 0.87660256 0.86698718 0.76282051 0.87660256]\n",
      "F1: 88.3% (+-2.5%)\n",
      "Accuracy: 84.1% (+-4.4%)\n",
      "Time of one solution: 106m 46s\n",
      " | 88.3% (+-2.5%) | 84.1% (+-4.4%) | 106m 46s\n"
     ]
    }
   ],
   "source": [
    "def check_solution(h, device, verbose):\n",
    "    train_loader, val_loader, test_loader = prepare_data(h)\n",
    "    model = create_model(h, device)\n",
    "    optimizer = torch.optim.Adam(model.parameters(), lr=h[\"lr\"])\n",
    "    criterion = nn.CrossEntropyLoss()\n",
    "    train_loss_history, val_loss_history = train_model(h, model, train_loader,\n",
    "                                                       val_loader, optimizer, criterion, device)\n",
    "    test_loss, test_accuracy, true_labels, predicted_labels = evaluate_model(h, model, test_loader,\n",
    "                                                                             criterion, device)\n",
    "    if verbose:\n",
    "        plot_metrics(h, train_loss_history, val_loss_history, test_loss, test_accuracy,\n",
    "                     true_labels, predicted_labels)\n",
    "\n",
    "    f1 = f1_score(true_labels, predicted_labels)\n",
    "\n",
    "    return f1, test_accuracy\n",
    "\n",
    "\n",
    "# Print hyperparameters for records\n",
    "print(\"Hyperparameters:\")\n",
    "pprint.pprint(h)\n",
    "\n",
    "f1_array = np.array([])\n",
    "accuracy_array = np.array([])\n",
    "start_time = time.time()\n",
    "\n",
    "repeats = 5\n",
    "for i in range(repeats):\n",
    "    print(f\"Running solution {i+1}/{repeats}\")\n",
    "    f1, accuracy = check_solution(h, device, verbose=(i==0))\n",
    "    print(f\"F1 = {f1:.2f}, accuracy = {accuracy:.2f} \")\n",
    "    f1_array = np.append(f1_array, f1)\n",
    "    accuracy_array = np.append(accuracy_array, accuracy) \n",
    "\n",
    "# Calculate elapsed time and remaining time\n",
    "repeat_time = (time.time() - start_time) / repeats\n",
    "repeat_time_min, repeat_time_sec = divmod(repeat_time, 60)\n",
    "\n",
    "# Printing final results\n",
    "print(\"Results\")\n",
    "print(f\"F1 List: {f1_array}\")\n",
    "print(f\"Accuracy List: {accuracy_array}\")\n",
    "print(f\"F1: {np.mean(f1_array):.1%} (+-{np.std(f1_array):.1%})\")\n",
    "print(f\"Accuracy: {np.mean(accuracy_array):.1%} (+-{np.std(accuracy_array):.1%})\")\n",
    "print(f\"Time of one solution: {repeat_time_min:.0f}m {repeat_time_sec:.0f}s\")\n",
    "\n",
    "print(f\" | {np.mean(f1_array):.1%} (+-{np.std(f1_array):.1%}) | {np.mean(accuracy_array):.1%} (+-{np.std(accuracy_array):.1%}) | {repeat_time_min:.0f}m {repeat_time_sec:.0f}s\")"
   ]
  },
  {
   "cell_type": "markdown",
   "id": "8c98a712",
   "metadata": {
    "papermill": {
     "duration": 0.314903,
     "end_time": "2023-07-20T04:45:34.464877",
     "exception": false,
     "start_time": "2023-07-20T04:45:34.149974",
     "status": "completed"
    },
    "tags": []
   },
   "source": [
    "<a id=\"scrollTo=results\"></a>\n",
    "## Results and comparison with Classical ML\n",
    "\n",
    "The performance of the Convolutional Neural Neural (CNN) model in comparison to the best classical machine learning model, Logistic Regression, showed a relatively comparable outcome. The 89% f1 scole of the logistic regression, is within the averaged 88.4% (+-1.1%) f1 score of the CNN. The uncertainty is for a confidence interval of one standard deviation\n",
    "\n",
    "The CNN model yielded **three fewer false positives** but, interestingly, also had **six more false negatives**. One key advantage of the CNN over Logistic Regression lies in its immense flexibility. The CNN is highly customizable, with a myriad of optimizations available, which could potentially render it as a more scalable option in the future.\n",
    "\n",
    "Nevertheless, one must consider the fact that Logistic Regression requires considerably less time for its processing, and its simplicity, especially with respect to feature extraction, cannot be overlooked. It is essential to bear in mind these aspects when evaluating the overall performance and potential applicability of both models."
   ]
  },
  {
   "cell_type": "markdown",
   "id": "e072a9f9",
   "metadata": {
    "papermill": {
     "duration": 0.318655,
     "end_time": "2023-07-20T04:45:35.086984",
     "exception": false,
     "start_time": "2023-07-20T04:45:34.768329",
     "status": "completed"
    },
    "tags": []
   },
   "source": [
    "<a id=\"scrollTo=improve\"></a>\n",
    "### Deep learning potential improvements\n",
    "\n",
    "Potential CNN improvements could include the introduction of a Learning rate scheduler and early stopping with model checkpointing.\n",
    "\n",
    "Also leveraging a pretrained models such as [ResNet34](http://pytorch.org/vision/main/models/generated/torchvision.models.resnet34.html) could be of help. This technique, also known as transfer learning, uses a pre-trained model, which has already learned features from a large dataset to solve a similar problem. This could potentially help the NN achieve better performance and reduce training time, as the model has already learned useful features from the large dataset."
   ]
  }
 ],
 "metadata": {
  "kernelspec": {
   "display_name": "Python 3",
   "language": "python",
   "name": "python3"
  },
  "language_info": {
   "codemirror_mode": {
    "name": "ipython",
    "version": 3
   },
   "file_extension": ".py",
   "mimetype": "text/x-python",
   "name": "python",
   "nbconvert_exporter": "python",
   "pygments_lexer": "ipython3",
   "version": "3.10.12"
  },
  "papermill": {
   "default_parameters": {},
   "duration": 32114.202298,
   "end_time": "2023-07-20T04:45:38.195636",
   "environment_variables": {},
   "exception": null,
   "input_path": "__notebook__.ipynb",
   "output_path": "__notebook__.ipynb",
   "parameters": {},
   "start_time": "2023-07-19T19:50:23.993338",
   "version": "2.4.0"
  }
 },
 "nbformat": 4,
 "nbformat_minor": 5
}
